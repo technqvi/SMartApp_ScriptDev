{
 "cells": [
  {
   "cell_type": "code",
   "execution_count": null,
   "metadata": {},
   "outputs": [],
   "source": [
    "# To run this file correctly, do the following\n",
    "# indent : entire code inside to function\n",
    "# delete : For Dev psycopg2 and dotnet env\n",
    "# uncomment: For Production running on Python Enviroment\n",
    "# uncomment : return and dtNow=datetime.now()\n",
    "# remove and  ae.id in (22,26)\n",
    "# uncomment email_info for sent mail\n",
    "# uncomment delete file"
   ]
  },
  {
   "cell_type": "code",
   "execution_count": null,
   "metadata": {},
   "outputs": [],
   "source": [
    "# def notify_imcomplete_pm_to_team():"
   ]
  },
  {
   "cell_type": "code",
   "execution_count": null,
   "metadata": {
    "collapsed": false,
    "jupyter": {
     "outputs_hidden": false
    },
    "pycharm": {
     "name": "#%%\n"
    }
   },
   "outputs": [],
   "source": [
    "import pandas as pd\n",
    "from dotenv import dotenv_values\n",
    "\n",
    "from datetime import datetime,date\n",
    "from dateutil import relativedelta\n",
    "import os\n"
   ]
  },
  {
   "cell_type": "markdown",
   "metadata": {},
   "source": [
    "# Paramter & Config values"
   ]
  },
  {
   "cell_type": "code",
   "execution_count": null,
   "metadata": {},
   "outputs": [],
   "source": [
    "temp_doc=\"temp_pm_notifcation\"\n",
    "cutOffPMDate=\"2024-01-01\""
   ]
  },
  {
   "cell_type": "markdown",
   "metadata": {},
   "source": [
    "# Retrive data from SMartDB Postgresql\n"
   ]
  },
  {
   "cell_type": "code",
   "execution_count": null,
   "metadata": {},
   "outputs": [],
   "source": [
    "# For Production running on Python Enviroment\n",
    "# from django.db import connection\n",
    "# def get_postgres_conn():\n",
    "#   return connection\n",
    "\n",
    "\n",
    "# For Dev\n",
    "env_path=r'D:\\PythonDev\\Yit\\SMartApp_ScriptDev\\.env'\n",
    "config = dotenv_values(dotenv_path=env_path)\n",
    "\n",
    "import psycopg2\n",
    "import psycopg2.extras as extras\n",
    "def get_postgres_conn():\n",
    " try:\n",
    "  conn = psycopg2.connect(\n",
    "        database=config['DATABASES_NAME'], user=config['DATABASES_USER'],\n",
    "      password=config['DATABASES_PASSWORD'], host=config['DATABASES_HOST']\n",
    "     )\n",
    "  return conn\n",
    "\n",
    " except Exception as error:\n",
    "  print(error)      \n",
    "  raise error\n"
   ]
  },
  {
   "cell_type": "code",
   "execution_count": null,
   "metadata": {},
   "outputs": [],
   "source": [
    "def list_data(sql,params,connection):\n",
    " df=None   \n",
    " with connection.cursor() as cursor:\n",
    "    \n",
    "    if params is None:\n",
    "       cursor.execute(sql)\n",
    "    else:\n",
    "       cursor.execute(sql,params)\n",
    "    \n",
    "    columns = [col[0] for col in cursor.description]\n",
    "    dataList = [dict(zip(columns, row)) for row in cursor.fetchall()]\n",
    "    df = pd.DataFrame(data=dataList) \n",
    " return df "
   ]
  },
  {
   "cell_type": "markdown",
   "metadata": {},
   "source": [
    "# Get the next month \n",
    "* Set Window Sheduler to monthly run at the fist dsate of The month\n",
    "* No matter what day you run this job , the program will  get only all PMs over the current month"
   ]
  },
  {
   "cell_type": "code",
   "execution_count": null,
   "metadata": {},
   "outputs": [],
   "source": [
    "#dtNow= datetime.strptime(datetime(2023,12,1,6,0).strftime('%Y-%m-%d'),'%Y-%m-%d')\n",
    "dtNow=datetime.now()\n",
    "\n",
    "dt = datetime.strptime(dtNow.strftime('%Y-%m-%d'),'%Y-%m-%d')\n",
    "print(dt)\n",
    "\n",
    "first_day_month = datetime(dt.year,dt.month,1)\n",
    "first_day_next_month= dt + relativedelta.relativedelta(months=1, day=1)\n",
    "print(first_day_month )   \n",
    "print(first_day_next_month ) \n"
   ]
  },
  {
   "cell_type": "markdown",
   "metadata": {},
   "source": [
    "# Retrive  and Transaform data"
   ]
  },
  {
   "cell_type": "code",
   "execution_count": null,
   "metadata": {},
   "outputs": [],
   "source": [
    "def do_something_df(df):\n",
    "    df = df.fillna(value='')\n",
    "    df=df.dropna(subset=['email_teamlead'])\n",
    "    # df = df.reset_index(drop=False)\n",
    "    # df.insert(0, \"No\", df[\"index\"]+1,True)\n",
    "    # df=df.drop(columns=[\"index\"])\n",
    "    return df"
   ]
  },
  {
   "cell_type": "code",
   "execution_count": null,
   "metadata": {},
   "outputs": [],
   "source": [
    "sql_item = f\"\"\"\n",
    " select  ac.company_full_name as \"ชื่อลูกค้า\",\n",
    " ap.contract_no as \"เลขที่สัญญา\",ap.enq_id as \"ENQ\" , ap.project_name as \"ชื่อโครงการ\",\n",
    "\n",
    "             ai.serial_number as \"Serial\",\n",
    "             (select  productype_name from app_product_type where id=ai.product_type_id ) as \"ProudctType\",\n",
    "             (select  brand_name from app_brand where id=ai.brand_id ) as \"Brand\",\n",
    "              (select  model_name from app_model where id=ai.model_id ) as \"Model\",\n",
    "\n",
    "             TO_CHAR(pm.planned_date,'DD Mon YYYY') as \"แผนจะทำPM\",TO_CHAR(pm.ended_pm_date,'DD Mon YYYY') as \"วันสุดท้ายที่ทำPM\",\n",
    "             pm.remark as  \"งวดPM\",\n",
    "             ae.employee_name as \"หัวหน้าทีม\",\n",
    "             (select emp.employee_name emp from app_employee emp where emp.id=pm.engineer_id ) as \"Planed Engineer\",\n",
    "\n",
    "           (select employee_name from app_employee eng_pm  where eng_pm.id=pm_item.pm_engineer_id ) as \"Operation Engineer\",\n",
    "           TO_CHAR(pm_item.actual_date,'DD Mon YYYY') as \"ActualDate\",\n",
    "\n",
    "            (select employee_name from app_employee eng_doc  where eng_doc.id=pm_item.document_engineer_id ) as \"Doc Engineer\",\n",
    "           TO_CHAR(pm_item.document_date,'DD Mon YYYY') as \"DocumentDate\",\n",
    "           \n",
    "           pm_item.call_number as \"Call Number\",pm_item.pm_document_number as \"Doc Number\",\n",
    "           pm_item.remark as \"Remark\"\n",
    "           \n",
    "           ,ae.employee_name as \"หัวหน้าทีม\" \n",
    "           ,ae.employee_email as \"email_teamlead\"\n",
    "\n",
    "from app_pm_inventory as pm_item\n",
    "left join app_inventory ai on ai.id = pm_item.inventory_id\n",
    "-- inner join app_product_type  product_type on ai.product_type_id = product_type.id\n",
    "left join app_preventivemaintenance pm on pm.id = pm_item.pm_master_id\n",
    "left join app_project ap on ap.id = pm.project_id\n",
    "left join app_company ac on ac.id = ap.company_id\n",
    "left join app_employee ae on ae.id =pm.team_lead_id\n",
    "\n",
    "where pm_item.is_pm=True \n",
    "and  \n",
    "(pm.planned_date>='{first_day_month}' and pm.planned_date<'{first_day_next_month}'  )\n",
    "\n",
    "and  ( pm_item.actual_date is null or pm_item.document_date is null \n",
    "       or pm_item.pm_engineer_id is null or  pm_item.document_engineer_id is null  )                                                       \n",
    "\n",
    "and  ae.id in (22,26)\n",
    "\n",
    "order by  ac.company_full_name,ap.enq_id,pm.remark\n",
    "\n",
    "    \"\"\"\n",
    "\n",
    "# to cover incomplete inventoru , you need to determine cutoff date to check pm item.\n",
    "# (pm.planned_date>='{cutOffPMDat}' and pm.planned_date<'{first_day_next_month}'  )\n",
    "\n",
    "#  pongthorn=trong and chatchawan-seng and  \n",
    "# ae.id in (22,26)\n",
    "\n",
    "# print(sql_item)"
   ]
  },
  {
   "cell_type": "code",
   "execution_count": null,
   "metadata": {},
   "outputs": [],
   "source": [
    "dfItem=list_data(sql_item,None,get_postgres_conn())\n",
    "dfItem=do_something_df(dfItem)\n",
    "dfItem.info()\n",
    "dfItem.head()"
   ]
  },
  {
   "cell_type": "markdown",
   "metadata": {},
   "source": [
    "# Gen excel and send mail for each team lead"
   ]
  },
  {
   "cell_type": "code",
   "execution_count": null,
   "metadata": {},
   "outputs": [],
   "source": [
    "emailList=dfItem[\"email_teamlead\"].unique().tolist()\n",
    "for email in  emailList:\n",
    "    \n",
    "    name=email.split(\"@\")[0]\n",
    "    name=name.replace(\".\",\"_\")\n",
    "    \n",
    "    file_name=f\"{name}_IncompletPM_{first_day_month.strftime('%b%y')}_{dtNow.strftime('%d%m%y%H%M')}.xlsx\" \n",
    "    file_path=f\"{temp_doc}/{file_name}\"\n",
    "    \n",
    "    dfByTeamLead=dfItem.query(\"email_teamlead==@email\")\n",
    "    dfByTeamLead=dfByTeamLead.drop(columns=[\"email_teamlead\"])\n",
    "    \n",
    "    with pd.ExcelWriter(file_path) as writer:\n",
    "        dfByTeamLead.to_excel(writer, sheet_name=\"PM-Item\",index=False)\n",
    "        print(f\"Exported {file_name} file for email successfully.\")\n",
    "        \n",
    "    is_sussessful=False    \n",
    "    # # Email Office 365\n",
    "    title = f'SmartPM: Incomplete-PM To TeamLead - {file_name}'\n",
    "    \n",
    "    content = f'<h3>Download  Incomplete-PM  excel file.</h3>'\n",
    "    content = f'{content}<h4>In each row as attached file, some of these columns have not been filled in data.</h4>'\n",
    "    content = f'{content}<h5>Operation Engineer,ActualDate,Doc Engineer,DocumentDate.</h5>'\n",
    "    print(content)\n",
    "    \n",
    "    listRecipients =[email]\n",
    "    print(f\"It is about to send email to {listRecipients}\")\n",
    "    \n",
    "    # email_info = {'subject': title, 'message': content, 'send_to':listRecipients}\n",
    "    # is_sussessful = send_email_with_excel_file(email_info,file_path,file_name)\n",
    "    # print(\"Sent mail successfully.\")\n",
    "    \n",
    "    # os.remove(f\"{file_path}\")\n",
    "    # print(f\"Deleted file {file_path} for email attachemnt  succesfully.\")\n",
    "    "
   ]
  },
  {
   "cell_type": "code",
   "execution_count": null,
   "metadata": {},
   "outputs": [],
   "source": []
  },
  {
   "cell_type": "code",
   "execution_count": null,
   "metadata": {},
   "outputs": [],
   "source": [
    "# return is_sussessful"
   ]
  },
  {
   "cell_type": "code",
   "execution_count": null,
   "metadata": {},
   "outputs": [],
   "source": []
  }
 ],
 "metadata": {
  "kernelspec": {
   "display_name": "Python 3 (ipykernel)",
   "language": "python",
   "name": "python3"
  },
  "language_info": {
   "codemirror_mode": {
    "name": "ipython",
    "version": 3
   },
   "file_extension": ".py",
   "mimetype": "text/x-python",
   "name": "python",
   "nbconvert_exporter": "python",
   "pygments_lexer": "ipython3",
   "version": "3.9.7"
  }
 },
 "nbformat": 4,
 "nbformat_minor": 4
}
