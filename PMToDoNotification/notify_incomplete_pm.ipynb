{
 "cells": [
  {
   "cell_type": "code",
   "execution_count": 18,
   "metadata": {},
   "outputs": [],
   "source": [
    "# To run this file correctly, do the following\n",
    "# indent : entire code inside to function\n",
    "# delete : is_only_admin=0  and For Dev psycopg2 and dotnet env\n",
    "# uncomment: For Production running on Python Enviroment\n",
    "# uncomment : return and dtNow=datetime.now()"
   ]
  },
  {
   "cell_type": "code",
   "execution_count": 19,
   "metadata": {},
   "outputs": [],
   "source": [
    "# def notify_imcomplete_pm_to_team(is_only_admin):"
   ]
  },
  {
   "cell_type": "code",
   "execution_count": 20,
   "metadata": {
    "collapsed": false,
    "jupyter": {
     "outputs_hidden": false
    },
    "pycharm": {
     "name": "#%%\n"
    }
   },
   "outputs": [],
   "source": [
    "import pandas as pd\n",
    "from dotenv import dotenv_values\n",
    "\n",
    "from datetime import datetime,date\n",
    "from dateutil import relativedelta\n",
    "import os\n"
   ]
  },
  {
   "cell_type": "markdown",
   "metadata": {},
   "source": [
    "# Paramter & Config values"
   ]
  },
  {
   "cell_type": "code",
   "execution_count": 21,
   "metadata": {},
   "outputs": [],
   "source": [
    "temp_doc=\"temp_pm_notifcation\""
   ]
  },
  {
   "cell_type": "markdown",
   "metadata": {},
   "source": [
    "# Retrive data from SMartDB Postgresql\n"
   ]
  },
  {
   "cell_type": "code",
   "execution_count": 22,
   "metadata": {},
   "outputs": [],
   "source": [
    "# For Production running on Python Enviroment\n",
    "# from django.db import connection\n",
    "# def get_postgres_conn():\n",
    "#   return connection\n",
    "\n",
    "\n",
    "# For Dev\n",
    "env_path=r'D:\\PythonDev\\Yit\\SMartApp_ScriptDev\\.env'\n",
    "config = dotenv_values(dotenv_path=env_path)\n",
    "\n",
    "import psycopg2\n",
    "import psycopg2.extras as extras\n",
    "def get_postgres_conn():\n",
    " try:\n",
    "  conn = psycopg2.connect(\n",
    "        database=config['DATABASES_NAME'], user=config['DATABASES_USER'],\n",
    "      password=config['DATABASES_PASSWORD'], host=config['DATABASES_HOST']\n",
    "     )\n",
    "  return conn\n",
    "\n",
    " except Exception as error:\n",
    "  print(error)      \n",
    "  raise error\n"
   ]
  },
  {
   "cell_type": "code",
   "execution_count": 23,
   "metadata": {},
   "outputs": [],
   "source": [
    "def list_data(sql,params,connection):\n",
    " df=None   \n",
    " with connection.cursor() as cursor:\n",
    "    \n",
    "    if params is None:\n",
    "       cursor.execute(sql)\n",
    "    else:\n",
    "       cursor.execute(sql,params)\n",
    "    \n",
    "    columns = [col[0] for col in cursor.description]\n",
    "    dataList = [dict(zip(columns, row)) for row in cursor.fetchall()]\n",
    "    df = pd.DataFrame(data=dataList) \n",
    " return df "
   ]
  },
  {
   "cell_type": "markdown",
   "metadata": {},
   "source": [
    "# Get the next month \n",
    "* Set Window Sheduler to monthly run at the fist dsate of The month\n",
    "* No matter what day you run this job , the program will  get only all PMs over the current month"
   ]
  },
  {
   "cell_type": "code",
   "execution_count": 30,
   "metadata": {},
   "outputs": [
    {
     "name": "stdout",
     "output_type": "stream",
     "text": [
      "2023-11-30 00:00:00\n",
      "2023-12-01 00:00:00\n"
     ]
    }
   ],
   "source": [
    "#dtNow= datetime.strptime(datetime(2023,12,1,6,0).strftime('%Y-%m-%d'),'%Y-%m-%d')\n",
    "dtNow=datetime.now()\n",
    "\n",
    "dt = datetime.strptime(dtNow.strftime('%Y-%m-%d'),'%Y-%m-%d')\n",
    "print(dt)\n",
    "\n",
    "first_day_next_month = dt + relativedelta.relativedelta(months=1, day=1)\n",
    "\n",
    "print(first_day_next_month ) \n"
   ]
  },
  {
   "cell_type": "markdown",
   "metadata": {},
   "source": [
    "# Retrive  and Transaform data"
   ]
  },
  {
   "cell_type": "code",
   "execution_count": 25,
   "metadata": {},
   "outputs": [],
   "source": [
    "def do_something_df(df):\n",
    "    df = df.fillna(value='')\n",
    "    df = df.reset_index(drop=False)\n",
    "    df.insert(0, \"No\", df[\"index\"]+1,True)\n",
    "    df=df.drop(columns=[\"index\"])\n",
    "    return df"
   ]
  },
  {
   "cell_type": "code",
   "execution_count": 33,
   "metadata": {},
   "outputs": [
    {
     "name": "stdout",
     "output_type": "stream",
     "text": [
      "\n",
      " select  ac.company_full_name as \"ชื่อลูกค้า\",\n",
      " ap.contract_no as \"เลขที่สัญญา\",ap.enq_id as \"ENQ\" , ap.project_name as \"ชื่อโครงการ\",\n",
      "\n",
      "             ai.serial_number as \"Serial\",\n",
      "             (select  productype_name from app_product_type where id=ai.product_type_id ) as \"ProudctType\",\n",
      "             (select  brand_name from app_brand where id=ai.brand_id ) as \"Brand\",\n",
      "              (select  model_name from app_model where id=ai.model_id ) as \"Model\",\n",
      "\n",
      "             TO_CHAR(pm.planned_date,'Mon YYYY') as \"แผนจะทำPM\",TO_CHAR(pm.ended_pm_date,'DD Mon YYYY') as \"วันสุดท้ายที่ทำPM\",\n",
      "             pm.remark as  \"งวดPM\",\n",
      "             ae.employee_name as \"หัวหน้าทีม\",\n",
      "             (select emp.employee_name emp from app_employee emp where emp.id=pm.engineer_id ) as \"Planed Engineer\",\n",
      "\n",
      "           (select employee_name from app_employee eng_pm  where eng_pm.id=pm_item.pm_engineer_id ) as \"Operation Engineer\",\n",
      "           TO_CHAR(pm_item.actual_date,'DD Mon YYYY') as \"ActualDate\",pm_item.call_number as \"Call Number\",\n",
      "\n",
      "            (select employee_name from app_employee eng_doc  where eng_doc.id=pm_item.document_engineer_id ) as \"Doc Engineer\",\n",
      "           TO_CHAR(pm_item.document_date,'DD Mon YYYY') as \"DocumentDate\",pm_item.pm_document_number as \"Doc Number\",\n",
      "           pm_item.remark as \"Remark\"\n",
      "           \n",
      "           ,ae.employee_name as \"หัวหน้าทีม\" \n",
      "           ,ae.employee_email as \"email_teamlead\"\n",
      "\n",
      "from app_pm_inventory as pm_item\n",
      "left join app_inventory ai on ai.id = pm_item.inventory_id\n",
      "-- inner join app_product_type  product_type on ai.product_type_id = product_type.id\n",
      "left join app_preventivemaintenance pm on pm.id = pm_item.pm_master_id\n",
      "left join app_project ap on ap.id = pm.project_id\n",
      "left join app_company ac on ac.id = ap.company_id\n",
      "left join app_employee ae on ae.id =pm.team_lead_id\n",
      "\n",
      "where pm_item.is_pm=True and   pm.ended_pm_date<='2023-12-01 00:00:00'\n",
      "and\n",
      "( \n",
      "  pm_item.actual_date is null or pm_item.document_date is null\n",
      "  or ( pm_item.call_number is null  or pm_item.call_number<>''  ) \n",
      "  or ( pm_item.pm_document_number is null  or pm_item.pm_document_number<>'' )\n",
      "  or ( pm_item.remark is null or pm_item.remark<>'' ) \n",
      ") \n",
      "\n",
      "\n",
      "order by  ac.company_full_name,ap.enq_id,pm.remark\n",
      "\n",
      "    \n"
     ]
    }
   ],
   "source": [
    "sql_item = f\"\"\"\n",
    " select  ac.company_full_name as \"ชื่อลูกค้า\",\n",
    " ap.contract_no as \"เลขที่สัญญา\",ap.enq_id as \"ENQ\" , ap.project_name as \"ชื่อโครงการ\",\n",
    "\n",
    "             ai.serial_number as \"Serial\",\n",
    "             (select  productype_name from app_product_type where id=ai.product_type_id ) as \"ProudctType\",\n",
    "             (select  brand_name from app_brand where id=ai.brand_id ) as \"Brand\",\n",
    "              (select  model_name from app_model where id=ai.model_id ) as \"Model\",\n",
    "\n",
    "             TO_CHAR(pm.planned_date,'Mon YYYY') as \"แผนจะทำPM\",TO_CHAR(pm.ended_pm_date,'DD Mon YYYY') as \"วันสุดท้ายที่ทำPM\",\n",
    "             pm.remark as  \"งวดPM\",\n",
    "             ae.employee_name as \"หัวหน้าทีม\",\n",
    "             (select emp.employee_name emp from app_employee emp where emp.id=pm.engineer_id ) as \"Planed Engineer\",\n",
    "\n",
    "           (select employee_name from app_employee eng_pm  where eng_pm.id=pm_item.pm_engineer_id ) as \"Operation Engineer\",\n",
    "           TO_CHAR(pm_item.actual_date,'DD Mon YYYY') as \"ActualDate\",pm_item.call_number as \"Call Number\",\n",
    "\n",
    "            (select employee_name from app_employee eng_doc  where eng_doc.id=pm_item.document_engineer_id ) as \"Doc Engineer\",\n",
    "           TO_CHAR(pm_item.document_date,'DD Mon YYYY') as \"DocumentDate\",pm_item.pm_document_number as \"Doc Number\",\n",
    "           pm_item.remark as \"Remark\"\n",
    "           \n",
    "           ,ae.employee_name as \"หัวหน้าทีม\" \n",
    "           ,ae.employee_email as \"email_teamlead\"\n",
    "\n",
    "from app_pm_inventory as pm_item\n",
    "left join app_inventory ai on ai.id = pm_item.inventory_id\n",
    "-- inner join app_product_type  product_type on ai.product_type_id = product_type.id\n",
    "left join app_preventivemaintenance pm on pm.id = pm_item.pm_master_id\n",
    "left join app_project ap on ap.id = pm.project_id\n",
    "left join app_company ac on ac.id = ap.company_id\n",
    "left join app_employee ae on ae.id =pm.team_lead_id\n",
    "\n",
    "where pm_item.is_pm=True and   pm.ended_pm_date<='{first_day_next_month}'\n",
    "and\n",
    "( \n",
    "  pm_item.actual_date is null or pm_item.document_date is null\n",
    "  or ( pm_item.call_number is null  or pm_item.call_number<>''  ) \n",
    "  or ( pm_item.pm_document_number is null  or pm_item.pm_document_number<>'' )\n",
    "  or ( pm_item.remark is null or pm_item.remark<>'' ) \n",
    ") \n",
    "\n",
    "\n",
    "order by  ac.company_full_name,ap.enq_id,pm.remark\n",
    "\n",
    "    \"\"\"\n",
    "\n",
    "print(sql_item)"
   ]
  },
  {
   "cell_type": "code",
   "execution_count": 34,
   "metadata": {},
   "outputs": [
    {
     "name": "stdout",
     "output_type": "stream",
     "text": [
      "<class 'pandas.core.frame.DataFrame'>\n",
      "RangeIndex: 20047 entries, 0 to 20046\n",
      "Data columns (total 22 columns):\n",
      " #   Column              Non-Null Count  Dtype \n",
      "---  ------              --------------  ----- \n",
      " 0   No                  20047 non-null  int64 \n",
      " 1   ชื่อลูกค้า          20047 non-null  object\n",
      " 2   เลขที่สัญญา         20047 non-null  object\n",
      " 3   ENQ                 20047 non-null  object\n",
      " 4   ชื่อโครงการ         20047 non-null  object\n",
      " 5   Serial              20047 non-null  object\n",
      " 6   ProudctType         20047 non-null  object\n",
      " 7   Brand               20047 non-null  object\n",
      " 8   Model               20047 non-null  object\n",
      " 9   แผนจะทำPM           20047 non-null  object\n",
      " 10  วันสุดท้ายที่ทำPM   20047 non-null  object\n",
      " 11  งวดPM               20047 non-null  object\n",
      " 12  หัวหน้าทีม          20047 non-null  object\n",
      " 13  Planed Engineer     20047 non-null  object\n",
      " 14  Operation Engineer  20047 non-null  object\n",
      " 15  ActualDate          20047 non-null  object\n",
      " 16  Call Number         20047 non-null  object\n",
      " 17  Doc Engineer        20047 non-null  object\n",
      " 18  DocumentDate        20047 non-null  object\n",
      " 19  Doc Number          20047 non-null  object\n",
      " 20  Remark              20047 non-null  object\n",
      " 21  email_teamlead      20047 non-null  object\n",
      "dtypes: int64(1), object(21)\n",
      "memory usage: 3.4+ MB\n"
     ]
    },
    {
     "data": {
      "text/html": [
       "<div>\n",
       "<style scoped>\n",
       "    .dataframe tbody tr th:only-of-type {\n",
       "        vertical-align: middle;\n",
       "    }\n",
       "\n",
       "    .dataframe tbody tr th {\n",
       "        vertical-align: top;\n",
       "    }\n",
       "\n",
       "    .dataframe thead th {\n",
       "        text-align: right;\n",
       "    }\n",
       "</style>\n",
       "<table border=\"1\" class=\"dataframe\">\n",
       "  <thead>\n",
       "    <tr style=\"text-align: right;\">\n",
       "      <th></th>\n",
       "      <th>No</th>\n",
       "      <th>ชื่อลูกค้า</th>\n",
       "      <th>เลขที่สัญญา</th>\n",
       "      <th>ENQ</th>\n",
       "      <th>ชื่อโครงการ</th>\n",
       "      <th>Serial</th>\n",
       "      <th>ProudctType</th>\n",
       "      <th>Brand</th>\n",
       "      <th>Model</th>\n",
       "      <th>แผนจะทำPM</th>\n",
       "      <th>...</th>\n",
       "      <th>หัวหน้าทีม</th>\n",
       "      <th>Planed Engineer</th>\n",
       "      <th>Operation Engineer</th>\n",
       "      <th>ActualDate</th>\n",
       "      <th>Call Number</th>\n",
       "      <th>Doc Engineer</th>\n",
       "      <th>DocumentDate</th>\n",
       "      <th>Doc Number</th>\n",
       "      <th>Remark</th>\n",
       "      <th>email_teamlead</th>\n",
       "    </tr>\n",
       "  </thead>\n",
       "  <tbody>\n",
       "    <tr>\n",
       "      <th>0</th>\n",
       "      <td>1</td>\n",
       "      <td>Advanced Info Services Public Company Limited</td>\n",
       "      <td></td>\n",
       "      <td>ENQ/62-320-1</td>\n",
       "      <td>AIS-ติดตั้ง Server Rack DL560 G10 จำนวน 8 เครื...</td>\n",
       "      <td>SGH932V6SQ</td>\n",
       "      <td>Server</td>\n",
       "      <td>HPE</td>\n",
       "      <td>ProLiant DL560 Gen10</td>\n",
       "      <td>Apr 2023</td>\n",
       "      <td>...</td>\n",
       "      <td>Boonlert Kawta</td>\n",
       "      <td></td>\n",
       "      <td>Panusak Sornplang</td>\n",
       "      <td>03 Apr 2023</td>\n",
       "      <td>15361, 15523</td>\n",
       "      <td>Paradon Srimode</td>\n",
       "      <td>03 Apr 2023</td>\n",
       "      <td></td>\n",
       "      <td></td>\n",
       "      <td>boonlert.ka@yipintsoi.com</td>\n",
       "    </tr>\n",
       "    <tr>\n",
       "      <th>1</th>\n",
       "      <td>2</td>\n",
       "      <td>Advanced Info Services Public Company Limited</td>\n",
       "      <td></td>\n",
       "      <td>ENQ/62-320-1</td>\n",
       "      <td>AIS-ติดตั้ง Server Rack DL560 G10 จำนวน 8 เครื...</td>\n",
       "      <td>SGH932V6S6</td>\n",
       "      <td>Server</td>\n",
       "      <td>HPE</td>\n",
       "      <td>ProLiant DL560 Gen10</td>\n",
       "      <td>Apr 2023</td>\n",
       "      <td>...</td>\n",
       "      <td>Boonlert Kawta</td>\n",
       "      <td></td>\n",
       "      <td>Panusak Sornplang</td>\n",
       "      <td>03 Apr 2023</td>\n",
       "      <td>15361, 15523</td>\n",
       "      <td>Paradon Srimode</td>\n",
       "      <td>03 Apr 2023</td>\n",
       "      <td></td>\n",
       "      <td></td>\n",
       "      <td>boonlert.ka@yipintsoi.com</td>\n",
       "    </tr>\n",
       "    <tr>\n",
       "      <th>2</th>\n",
       "      <td>3</td>\n",
       "      <td>Advanced Info Services Public Company Limited</td>\n",
       "      <td></td>\n",
       "      <td>ENQ/62-320-1</td>\n",
       "      <td>AIS-ติดตั้ง Server Rack DL560 G10 จำนวน 8 เครื...</td>\n",
       "      <td>SGH932V6SB</td>\n",
       "      <td>Server</td>\n",
       "      <td>HPE</td>\n",
       "      <td>ProLiant DL560 Gen10</td>\n",
       "      <td>Apr 2023</td>\n",
       "      <td>...</td>\n",
       "      <td>Boonlert Kawta</td>\n",
       "      <td></td>\n",
       "      <td>Panusak Sornplang</td>\n",
       "      <td>03 Apr 2023</td>\n",
       "      <td>15361, 15523</td>\n",
       "      <td>Paradon Srimode</td>\n",
       "      <td>03 Apr 2023</td>\n",
       "      <td></td>\n",
       "      <td></td>\n",
       "      <td>boonlert.ka@yipintsoi.com</td>\n",
       "    </tr>\n",
       "    <tr>\n",
       "      <th>3</th>\n",
       "      <td>4</td>\n",
       "      <td>Advanced Info Services Public Company Limited</td>\n",
       "      <td></td>\n",
       "      <td>ENQ/62-320-1</td>\n",
       "      <td>AIS-ติดตั้ง Server Rack DL560 G10 จำนวน 8 เครื...</td>\n",
       "      <td>SGH932V6SL</td>\n",
       "      <td>Server</td>\n",
       "      <td>HPE</td>\n",
       "      <td>ProLiant DL560 Gen10</td>\n",
       "      <td>Apr 2023</td>\n",
       "      <td>...</td>\n",
       "      <td>Boonlert Kawta</td>\n",
       "      <td></td>\n",
       "      <td>Panusak Sornplang</td>\n",
       "      <td>03 Apr 2023</td>\n",
       "      <td>15361, 15523</td>\n",
       "      <td>Paradon Srimode</td>\n",
       "      <td>03 Apr 2023</td>\n",
       "      <td></td>\n",
       "      <td></td>\n",
       "      <td>boonlert.ka@yipintsoi.com</td>\n",
       "    </tr>\n",
       "    <tr>\n",
       "      <th>4</th>\n",
       "      <td>5</td>\n",
       "      <td>Advanced Info Services Public Company Limited</td>\n",
       "      <td></td>\n",
       "      <td>ENQ/62-320-1</td>\n",
       "      <td>AIS-ติดตั้ง Server Rack DL560 G10 จำนวน 8 เครื...</td>\n",
       "      <td>SGH932V6T3</td>\n",
       "      <td>Server</td>\n",
       "      <td>HPE</td>\n",
       "      <td>ProLiant DL560 Gen10</td>\n",
       "      <td>Apr 2023</td>\n",
       "      <td>...</td>\n",
       "      <td>Boonlert Kawta</td>\n",
       "      <td></td>\n",
       "      <td>Panusak Sornplang</td>\n",
       "      <td>03 Apr 2023</td>\n",
       "      <td>15361, 15523</td>\n",
       "      <td>Paradon Srimode</td>\n",
       "      <td>03 Apr 2023</td>\n",
       "      <td></td>\n",
       "      <td></td>\n",
       "      <td>boonlert.ka@yipintsoi.com</td>\n",
       "    </tr>\n",
       "  </tbody>\n",
       "</table>\n",
       "<p>5 rows × 22 columns</p>\n",
       "</div>"
      ],
      "text/plain": [
       "   No                                     ชื่อลูกค้า เลขที่สัญญา  \\\n",
       "0   1  Advanced Info Services Public Company Limited               \n",
       "1   2  Advanced Info Services Public Company Limited               \n",
       "2   3  Advanced Info Services Public Company Limited               \n",
       "3   4  Advanced Info Services Public Company Limited               \n",
       "4   5  Advanced Info Services Public Company Limited               \n",
       "\n",
       "            ENQ                                        ชื่อโครงการ  \\\n",
       "0  ENQ/62-320-1  AIS-ติดตั้ง Server Rack DL560 G10 จำนวน 8 เครื...   \n",
       "1  ENQ/62-320-1  AIS-ติดตั้ง Server Rack DL560 G10 จำนวน 8 เครื...   \n",
       "2  ENQ/62-320-1  AIS-ติดตั้ง Server Rack DL560 G10 จำนวน 8 เครื...   \n",
       "3  ENQ/62-320-1  AIS-ติดตั้ง Server Rack DL560 G10 จำนวน 8 เครื...   \n",
       "4  ENQ/62-320-1  AIS-ติดตั้ง Server Rack DL560 G10 จำนวน 8 เครื...   \n",
       "\n",
       "       Serial ProudctType Brand                 Model แผนจะทำPM  ...  \\\n",
       "0  SGH932V6SQ      Server   HPE  ProLiant DL560 Gen10  Apr 2023  ...   \n",
       "1  SGH932V6S6      Server   HPE  ProLiant DL560 Gen10  Apr 2023  ...   \n",
       "2  SGH932V6SB      Server   HPE  ProLiant DL560 Gen10  Apr 2023  ...   \n",
       "3  SGH932V6SL      Server   HPE  ProLiant DL560 Gen10  Apr 2023  ...   \n",
       "4  SGH932V6T3      Server   HPE  ProLiant DL560 Gen10  Apr 2023  ...   \n",
       "\n",
       "       หัวหน้าทีม Planed Engineer Operation Engineer   ActualDate  \\\n",
       "0  Boonlert Kawta                  Panusak Sornplang  03 Apr 2023   \n",
       "1  Boonlert Kawta                  Panusak Sornplang  03 Apr 2023   \n",
       "2  Boonlert Kawta                  Panusak Sornplang  03 Apr 2023   \n",
       "3  Boonlert Kawta                  Panusak Sornplang  03 Apr 2023   \n",
       "4  Boonlert Kawta                  Panusak Sornplang  03 Apr 2023   \n",
       "\n",
       "    Call Number     Doc Engineer DocumentDate Doc Number Remark  \\\n",
       "0  15361, 15523  Paradon Srimode  03 Apr 2023                     \n",
       "1  15361, 15523  Paradon Srimode  03 Apr 2023                     \n",
       "2  15361, 15523  Paradon Srimode  03 Apr 2023                     \n",
       "3  15361, 15523  Paradon Srimode  03 Apr 2023                     \n",
       "4  15361, 15523  Paradon Srimode  03 Apr 2023                     \n",
       "\n",
       "              email_teamlead  \n",
       "0  boonlert.ka@yipintsoi.com  \n",
       "1  boonlert.ka@yipintsoi.com  \n",
       "2  boonlert.ka@yipintsoi.com  \n",
       "3  boonlert.ka@yipintsoi.com  \n",
       "4  boonlert.ka@yipintsoi.com  \n",
       "\n",
       "[5 rows x 22 columns]"
      ]
     },
     "execution_count": 34,
     "metadata": {},
     "output_type": "execute_result"
    }
   ],
   "source": [
    "dfItem=list_data(sql_item,None,get_postgres_conn())\n",
    "dfItem=do_something_df(dfItem)\n",
    "dfItem.info()\n",
    "dfItem.head()"
   ]
  },
  {
   "cell_type": "markdown",
   "metadata": {},
   "source": [
    "# Excel file"
   ]
  },
  {
   "cell_type": "code",
   "execution_count": null,
   "metadata": {},
   "outputs": [],
   "source": [
    "with pd.ExcelWriter(file_path) as writer:\n",
    "    dfPM.to_excel(writer, sheet_name=\"PM-Plan\",index=False)\n",
    "    dfItem.to_excel(writer, sheet_name=\"PM-Item\",index=False)\n",
    "    print(f\"Exported {file_name} file for email successfully.\")"
   ]
  },
  {
   "cell_type": "markdown",
   "metadata": {},
   "source": [
    "# Email Office 365"
   ]
  },
  {
   "cell_type": "code",
   "execution_count": null,
   "metadata": {},
   "outputs": [],
   "source": []
  },
  {
   "cell_type": "code",
   "execution_count": null,
   "metadata": {},
   "outputs": [],
   "source": []
  },
  {
   "cell_type": "code",
   "execution_count": null,
   "metadata": {},
   "outputs": [],
   "source": []
  },
  {
   "cell_type": "markdown",
   "metadata": {},
   "source": [
    "# Delete attach files : if sent email with excel file completely"
   ]
  },
  {
   "cell_type": "code",
   "execution_count": null,
   "metadata": {},
   "outputs": [],
   "source": [
    "\n",
    "os.remove(f\"{file_path}\")"
   ]
  },
  {
   "cell_type": "code",
   "execution_count": null,
   "metadata": {},
   "outputs": [],
   "source": []
  },
  {
   "cell_type": "code",
   "execution_count": null,
   "metadata": {},
   "outputs": [],
   "source": [
    "# return True"
   ]
  },
  {
   "cell_type": "code",
   "execution_count": null,
   "metadata": {},
   "outputs": [],
   "source": []
  }
 ],
 "metadata": {
  "kernelspec": {
   "display_name": "Python 3 (ipykernel)",
   "language": "python",
   "name": "python3"
  },
  "language_info": {
   "codemirror_mode": {
    "name": "ipython",
    "version": 3
   },
   "file_extension": ".py",
   "mimetype": "text/x-python",
   "name": "python",
   "nbconvert_exporter": "python",
   "pygments_lexer": "ipython3",
   "version": "3.9.7"
  }
 },
 "nbformat": 4,
 "nbformat_minor": 4
}
