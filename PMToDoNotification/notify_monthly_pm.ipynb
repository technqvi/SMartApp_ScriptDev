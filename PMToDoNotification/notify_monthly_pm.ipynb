{
 "cells": [
  {
   "cell_type": "code",
   "execution_count": 32,
   "metadata": {},
   "outputs": [],
   "source": [
    "# To run this file correctly, do the following\n",
    "# indent : entire code inside to function\n",
    "# delete : is_only_admin=0  and For Dev psycopg2 and dotnet env\n",
    "# uncomment: For Production running on Python Enviroment\n",
    "# uncomment : return and dtNow=datetime.now()"
   ]
  },
  {
   "cell_type": "code",
   "execution_count": 33,
   "metadata": {},
   "outputs": [],
   "source": [
    "# def notify_monthly_pm_to_admin(is_only_admin):"
   ]
  },
  {
   "cell_type": "code",
   "execution_count": 34,
   "metadata": {
    "collapsed": false,
    "jupyter": {
     "outputs_hidden": false
    },
    "pycharm": {
     "name": "#%%\n"
    }
   },
   "outputs": [],
   "source": [
    "import pandas as pd\n",
    "from dotenv import dotenv_values\n",
    "\n",
    "from datetime import datetime,date\n",
    "from dateutil import relativedelta\n",
    "import os\n"
   ]
  },
  {
   "cell_type": "markdown",
   "metadata": {},
   "source": [
    "# Paramter & Config values"
   ]
  },
  {
   "cell_type": "code",
   "execution_count": 35,
   "metadata": {},
   "outputs": [],
   "source": [
    "is_only_admin=0\n",
    "is_only_admin=bool(is_only_admin)\n",
    "\n",
    "temp_doc=\"temp_pm_notifcation\"\n",
    "\n"
   ]
  },
  {
   "cell_type": "markdown",
   "metadata": {},
   "source": [
    "# Retrive data from SMartDB Postgresql\n"
   ]
  },
  {
   "cell_type": "code",
   "execution_count": null,
   "metadata": {},
   "outputs": [],
   "source": [
    "# For Production running on Python Enviroment\n",
    "# from django.db import connection\n",
    "# def get_postgres_conn():\n",
    "#   return connection\n",
    "\n",
    "\n",
    "# For Dev\n",
    "env_path=r'D:\\PythonDev\\Yit\\SMartApp_ScriptDev\\.env'\n",
    "config = dotenv_values(dotenv_path=env_path)\n",
    "\n",
    "import psycopg2\n",
    "import psycopg2.extras as extras\n",
    "def get_postgres_conn():\n",
    " try:\n",
    "  conn = psycopg2.connect(\n",
    "        database=config['DATABASES_NAME'], user=config['DATABASES_USER'],\n",
    "      password=config['DATABASES_PASSWORD'], host=config['DATABASES_HOST']\n",
    "     )\n",
    "  return conn\n",
    "\n",
    " except Exception as error:\n",
    "  print(error)      \n",
    "  raise error\n"
   ]
  },
  {
   "cell_type": "code",
   "execution_count": null,
   "metadata": {},
   "outputs": [],
   "source": [
    "def list_data(sql,params,connection):\n",
    " df=None   \n",
    " with connection.cursor() as cursor:\n",
    "    \n",
    "    if params is None:\n",
    "       cursor.execute(sql)\n",
    "    else:\n",
    "       cursor.execute(sql,params)\n",
    "    \n",
    "    columns = [col[0] for col in cursor.description]\n",
    "    dataList = [dict(zip(columns, row)) for row in cursor.fetchall()]\n",
    "    df = pd.DataFrame(data=dataList) \n",
    " return df "
   ]
  },
  {
   "cell_type": "markdown",
   "metadata": {},
   "source": [
    "# Get the next month \n",
    "* Set Window Sheduler to monthly run at the fist dsate of The month\n",
    "* No matter what day you run this job , the program will  get only all PMs over the current month"
   ]
  },
  {
   "cell_type": "code",
   "execution_count": null,
   "metadata": {},
   "outputs": [],
   "source": [
    "#dtNow= datetime.strptime(datetime(2023,12,1,6,0).strftime('%Y-%m-%d'),'%Y-%m-%d')\n",
    "dtNow=datetime.now()\n",
    "\n",
    "dt = datetime.strptime(dtNow.strftime('%Y-%m-%d'),'%Y-%m-%d')\n",
    "print(dt)\n",
    "\n",
    "first_day_month = datetime(dt.year,dt.month,1)\n",
    "first_day_next_month= dt + relativedelta.relativedelta(months=1, day=1)\n",
    "print(first_day_month )   \n",
    "print(first_day_next_month ) \n"
   ]
  },
  {
   "cell_type": "markdown",
   "metadata": {},
   "source": [
    "# Create File Name and Path to attach to email"
   ]
  },
  {
   "cell_type": "code",
   "execution_count": null,
   "metadata": {},
   "outputs": [],
   "source": [
    "file_name=f\"PM_{first_day_month.strftime('%b%y')}_{dtNow.strftime('%d%m%y%H%M')}.xlsx\"\n",
    "if is_only_admin==False:\n",
    "   file_name=f\"SM-{file_name}\" \n",
    "else:\n",
    "   file_name=f\"NoneSM-{file_name}\" \n",
    "file_path=f\"{temp_doc}/{file_name}\"\n",
    "print(file_path)"
   ]
  },
  {
   "cell_type": "code",
   "execution_count": null,
   "metadata": {},
   "outputs": [],
   "source": []
  },
  {
   "cell_type": "markdown",
   "metadata": {},
   "source": [
    "# Retrive  and Transaform data"
   ]
  },
  {
   "cell_type": "code",
   "execution_count": null,
   "metadata": {},
   "outputs": [],
   "source": [
    "def do_something_df(df):\n",
    "    df = df.fillna(value='')\n",
    "    df = df.reset_index(drop=False)\n",
    "    df.insert(0, \"No\", df[\"index\"]+1,True)\n",
    "    df=df.drop(columns=[\"index\"])\n",
    "    return df"
   ]
  },
  {
   "cell_type": "code",
   "execution_count": null,
   "metadata": {},
   "outputs": [],
   "source": [
    "# https://github.com/technqvi/SMartApp/blob/main/app/pm_doc_manager/pm_export.py\n",
    "\n",
    "sql_pm=f\"\"\"\n",
    "    select ac.company_full_name as \"ชื่อลูกค้า\",\n",
    "    ap.contract_no as \"เลขที่สัญญา\",ap.enq_id as \"ENQ\" ,\n",
    "    ap.project_name as \"ชื่อโครงการ\",\n",
    "    TO_CHAR(pm.planned_date,'DD Mon YYYY') as \"แผนจะทำPM\",\n",
    "    TO_CHAR(pm.ended_pm_date,'DD Mon YYYY') as \"วันสุดท้ายที่ทำPM\",\n",
    "    pm.remark as  \"งวดPM\",\n",
    "    ae.employee_name as \"หัวหน้าทีม\",\n",
    "    (select emp.employee_name emp from app_employee emp where emp.id=pm.engineer_id ) as \"Engineer\"\n",
    "    from app_preventivemaintenance pm\n",
    "    left join app_project ap on ap.id = pm.project_id\n",
    "    left join app_company ac on ac.id = ap.company_id\n",
    "    left join app_employee ae on ae.id =pm.team_lead_id\n",
    "    where  pm.planned_date>='{first_day_month}' and pm.planned_date<'{first_day_next_month}'\n",
    "    and ac.is_managed_by_admin = {is_only_admin}\n",
    "    order by  ac.company_full_name,ap.enq_id,pm.remark\n",
    "    \"\"\"\n",
    "# print(sql_pm)"
   ]
  },
  {
   "cell_type": "code",
   "execution_count": null,
   "metadata": {},
   "outputs": [],
   "source": [
    "dfPM=list_data(sql_pm,None,get_postgres_conn())\n",
    "dfPM=do_something_df(dfPM)\n",
    "dfPM.info()\n",
    "dfPM.head()"
   ]
  },
  {
   "cell_type": "code",
   "execution_count": null,
   "metadata": {},
   "outputs": [],
   "source": [
    "sql_item = f\"\"\"\n",
    " select  ac.company_full_name as \"ชื่อลูกค้า\",\n",
    " ap.contract_no as \"เลขที่สัญญา\",ap.enq_id as \"ENQ\" , ap.project_name as \"ชื่อโครงการ\",\n",
    "\n",
    "             ai.serial_number as \"Serial\",\n",
    "             (select  productype_name from app_product_type where id=ai.product_type_id ) as \"ProudctType\",\n",
    "             (select  brand_name from app_brand where id=ai.brand_id ) as \"Brand\",\n",
    "              (select  model_name from app_model where id=ai.model_id ) as \"Model\",\n",
    "\n",
    "             TO_CHAR(pm.planned_date,'DD Mon YYYY') as \"แผนจะทำPM\",TO_CHAR(pm.ended_pm_date,'DD Mon YYYY') as \"วันสุดท้ายที่ทำPM\",\n",
    "             pm.remark as  \"งวดPM\",ae.employee_name as \"หัวหน้าทีม\",\n",
    "             (select emp.employee_name emp from app_employee emp where emp.id=pm.engineer_id ) as \"Planed Engineer\",\n",
    "\n",
    "           (select employee_name from app_employee eng_pm  where eng_pm.id=pm_item.pm_engineer_id ) as \"Operation Engineer\",\n",
    "           TO_CHAR(pm_item.actual_date,'DD Mon YYYY') as \"ActualDate\",pm_item.call_number as \"Call Number\",\n",
    "\n",
    "            (select employee_name from app_employee eng_doc  where eng_doc.id=pm_item.document_engineer_id ) as \"Doc Engineer\",\n",
    "           TO_CHAR(pm_item.document_date,'DD Mon YYYY') as \"DocumentDate\",pm_item.pm_document_number as \"Doc Number\",\n",
    "           pm_item.remark as \"Remark\"\n",
    "\n",
    "from app_pm_inventory as pm_item\n",
    "left join app_inventory ai on ai.id = pm_item.inventory_id\n",
    "-- inner join app_product_type  product_type on ai.product_type_id = product_type.id\n",
    "left join app_preventivemaintenance pm on pm.id = pm_item.pm_master_id\n",
    "left join app_project ap on ap.id = pm.project_id\n",
    "left join app_company ac on ac.id = ap.company_id\n",
    "left join app_employee ae on ae.id =pm.team_lead_id\n",
    "\n",
    "where pm_item.is_pm=True and ac.is_managed_by_admin = {is_only_admin}\n",
    "and  pm.planned_date>='{first_day_month}' and pm.planned_date<'{first_day_next_month}'\n",
    "\n",
    "order by  ac.company_full_name,ap.enq_id,pm.remark\n",
    "\n",
    "    \"\"\"\n",
    "\n",
    "print(sql_item)"
   ]
  },
  {
   "cell_type": "code",
   "execution_count": null,
   "metadata": {},
   "outputs": [],
   "source": [
    "dfItem=list_data(sql_item,None,get_postgres_conn())\n",
    "dfItem=do_something_df(dfItem)\n",
    "dfItem.info()\n",
    "dfItem.head()"
   ]
  },
  {
   "cell_type": "markdown",
   "metadata": {},
   "source": [
    "# Excel file"
   ]
  },
  {
   "cell_type": "code",
   "execution_count": null,
   "metadata": {},
   "outputs": [],
   "source": [
    "with pd.ExcelWriter(file_path) as writer:\n",
    "    dfPM.to_excel(writer, sheet_name=\"PM-Plan\",index=False)\n",
    "    dfItem.to_excel(writer, sheet_name=\"PM-Item\",index=False)\n",
    "    print(f\"Exported {file_name} file for email successfully.\")"
   ]
  },
  {
   "cell_type": "markdown",
   "metadata": {},
   "source": [
    "# Email Office 365 ( Django Envieoment)"
   ]
  },
  {
   "cell_type": "code",
   "execution_count": null,
   "metadata": {},
   "outputs": [],
   "source": [
    "# # Email Office 365\n",
    "# title = f'SmartPM: Monthly PM To Admin - {file_name}'\n",
    "# content = f'Download  PM-Plan excel file'\n",
    "# listRecipients =settings.EMAIL_ADMIN_FOR_MONTHLY_NOTIFICATION\n",
    "# print(f\"It is about to send email to {listRecipients}\")\n",
    "# email_info = {'subject': title, 'message': content, 'send_to':listRecipients}\n",
    "# is_sussessful = send_email_with_excel_file(email_info,file_path,file_name)\n",
    "# print(\"Sent mail successfully.\")"
   ]
  },
  {
   "cell_type": "code",
   "execution_count": null,
   "metadata": {},
   "outputs": [],
   "source": []
  },
  {
   "cell_type": "code",
   "execution_count": null,
   "metadata": {},
   "outputs": [],
   "source": []
  },
  {
   "cell_type": "markdown",
   "metadata": {},
   "source": [
    "# Delete attach files : if sent email with excel file completely"
   ]
  },
  {
   "cell_type": "code",
   "execution_count": null,
   "metadata": {},
   "outputs": [],
   "source": [
    "\n",
    "os.remove(f\"{file_path}\")"
   ]
  },
  {
   "cell_type": "code",
   "execution_count": null,
   "metadata": {},
   "outputs": [],
   "source": []
  },
  {
   "cell_type": "code",
   "execution_count": null,
   "metadata": {},
   "outputs": [],
   "source": [
    "# return is_sussessful"
   ]
  },
  {
   "cell_type": "code",
   "execution_count": null,
   "metadata": {},
   "outputs": [],
   "source": []
  }
 ],
 "metadata": {
  "kernelspec": {
   "display_name": "Python 3 (ipykernel)",
   "language": "python",
   "name": "python3"
  },
  "language_info": {
   "codemirror_mode": {
    "name": "ipython",
    "version": 3
   },
   "file_extension": ".py",
   "mimetype": "text/x-python",
   "name": "python",
   "nbconvert_exporter": "python",
   "pygments_lexer": "ipython3",
   "version": "3.9.7"
  }
 },
 "nbformat": 4,
 "nbformat_minor": 4
}
