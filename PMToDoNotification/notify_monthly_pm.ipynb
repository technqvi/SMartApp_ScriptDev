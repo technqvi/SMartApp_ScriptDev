{
 "cells": [
  {
   "cell_type": "code",
   "execution_count": 1,
   "metadata": {},
   "outputs": [],
   "source": [
    "# To run this file correctly, do the following\n",
    "# indent : entire code inside to function\n",
    "# delete : is_only_admin=0  and For Dev psycopg2 and dotnet env\n",
    "# uncomment: For Production running on Python Enviroment\n",
    "# uncomment : return and dtNow=datetime.now()"
   ]
  },
  {
   "cell_type": "code",
   "execution_count": 2,
   "metadata": {},
   "outputs": [],
   "source": [
    "# def notify_monthly_pm_to_admin(is_only_admin):"
   ]
  },
  {
   "cell_type": "code",
   "execution_count": 3,
   "metadata": {
    "collapsed": false,
    "jupyter": {
     "outputs_hidden": false
    },
    "pycharm": {
     "name": "#%%\n"
    }
   },
   "outputs": [],
   "source": [
    "import pandas as pd\n",
    "from dotenv import dotenv_values\n",
    "\n",
    "from datetime import datetime,date\n",
    "from dateutil import relativedelta\n",
    "import os\n"
   ]
  },
  {
   "cell_type": "markdown",
   "metadata": {},
   "source": [
    "# Paramter & Config values"
   ]
  },
  {
   "cell_type": "code",
   "execution_count": 4,
   "metadata": {},
   "outputs": [],
   "source": [
    "is_only_admin=0\n",
    "is_only_admin=bool(is_only_admin)\n",
    "\n",
    "temp_doc=\"temp_pm_notifcation\""
   ]
  },
  {
   "cell_type": "markdown",
   "metadata": {},
   "source": [
    "# Retrive data from SMartDB Postgresql\n"
   ]
  },
  {
   "cell_type": "code",
   "execution_count": 5,
   "metadata": {},
   "outputs": [],
   "source": [
    "# For Production running on Python Enviroment\n",
    "# from django.db import connection\n",
    "# def get_postgres_conn():\n",
    "#   return connection\n",
    "\n",
    "\n",
    "# For Dev\n",
    "env_path=r'D:\\PythonDev\\Yit\\SMartApp_ScriptDev\\.env'\n",
    "config = dotenv_values(dotenv_path=env_path)\n",
    "\n",
    "import psycopg2\n",
    "import psycopg2.extras as extras\n",
    "def get_postgres_conn():\n",
    " try:\n",
    "  conn = psycopg2.connect(\n",
    "        database=config['DATABASES_NAME'], user=config['DATABASES_USER'],\n",
    "      password=config['DATABASES_PASSWORD'], host=config['DATABASES_HOST']\n",
    "     )\n",
    "  return conn\n",
    "\n",
    " except Exception as error:\n",
    "  print(error)      \n",
    "  raise error\n"
   ]
  },
  {
   "cell_type": "code",
   "execution_count": 6,
   "metadata": {},
   "outputs": [],
   "source": [
    "def list_data(sql,params,connection):\n",
    " df=None   \n",
    " with connection.cursor() as cursor:\n",
    "    \n",
    "    if params is None:\n",
    "       cursor.execute(sql)\n",
    "    else:\n",
    "       cursor.execute(sql,params)\n",
    "    \n",
    "    columns = [col[0] for col in cursor.description]\n",
    "    dataList = [dict(zip(columns, row)) for row in cursor.fetchall()]\n",
    "    df = pd.DataFrame(data=dataList) \n",
    " return df "
   ]
  },
  {
   "cell_type": "markdown",
   "metadata": {},
   "source": [
    "# Get the next month \n",
    "* Set Window Sheduler to monthly run at the fist dsate of The month\n",
    "* No matter what day you run this job , the program will  get only all PMs over the current month"
   ]
  },
  {
   "cell_type": "code",
   "execution_count": 7,
   "metadata": {},
   "outputs": [
    {
     "name": "stdout",
     "output_type": "stream",
     "text": [
      "2023-11-30 00:00:00\n",
      "2023-11-01 00:00:00\n",
      "2023-12-01 00:00:00\n"
     ]
    }
   ],
   "source": [
    "#dtNow= datetime.strptime(datetime(2023,12,1,6,0).strftime('%Y-%m-%d'),'%Y-%m-%d')\n",
    "dtNow=datetime.now()\n",
    "\n",
    "dt = datetime.strptime(dtNow.strftime('%Y-%m-%d'),'%Y-%m-%d')\n",
    "print(dt)\n",
    "\n",
    "first_day_month = datetime(dt.year,dt.month,1)\n",
    "first_day_next_month= dt + relativedelta.relativedelta(months=1, day=1)\n",
    "print(first_day_month )   \n",
    "print(first_day_next_month ) \n"
   ]
  },
  {
   "cell_type": "markdown",
   "metadata": {},
   "source": [
    "# Create File Name and Path to attach to email"
   ]
  },
  {
   "cell_type": "code",
   "execution_count": 8,
   "metadata": {},
   "outputs": [
    {
     "name": "stdout",
     "output_type": "stream",
     "text": [
      "temp_pm_notifcation/SM-PM_Nov23_3011231404.xlsx\n"
     ]
    }
   ],
   "source": [
    "file_name=f\"PM_{first_day_month.strftime('%b%y')}_{dtNow.strftime('%d%m%y%H%M')}.xlsx\"\n",
    "if is_only_admin==False:\n",
    "   file_name=f\"SM-{file_name}\" \n",
    "else:\n",
    "   file_name=f\"NoneSM-{file_name}\" \n",
    "file_path=f\"{temp_doc}/{file_name}\"\n",
    "print(file_path)"
   ]
  },
  {
   "cell_type": "code",
   "execution_count": null,
   "metadata": {},
   "outputs": [],
   "source": []
  },
  {
   "cell_type": "markdown",
   "metadata": {},
   "source": [
    "# Retrive  and Transaform data"
   ]
  },
  {
   "cell_type": "code",
   "execution_count": 9,
   "metadata": {},
   "outputs": [],
   "source": [
    "def do_something_df(df):\n",
    "    df = df.fillna(value='')\n",
    "    df = df.reset_index(drop=False)\n",
    "    df.insert(0, \"No\", df[\"index\"]+1,True)\n",
    "    df=df.drop(columns=[\"index\"])\n",
    "    return df"
   ]
  },
  {
   "cell_type": "code",
   "execution_count": 10,
   "metadata": {},
   "outputs": [],
   "source": [
    "# https://github.com/technqvi/SMartApp/blob/main/app/pm_doc_manager/pm_export.py\n",
    "\n",
    "sql_pm=f\"\"\"\n",
    "    select ac.company_full_name as \"ชื่อลูกค้า\",\n",
    "    ap.contract_no as \"เลขที่สัญญา\",ap.enq_id as \"ENQ\" ,\n",
    "    ap.project_name as \"ชื่อโครงการ\",\n",
    "    TO_CHAR(pm.planned_date,'Mon YYYY') as \"แผนจะทำPM\",\n",
    "    TO_CHAR(pm.ended_pm_date,'DD Mon YYYY') as \"วันสุดท้ายที่ทำPM\",\n",
    "    pm.remark as  \"งวดPM\",\n",
    "    ae.employee_name as \"หัวหน้าทีม\",\n",
    "    (select emp.employee_name emp from app_employee emp where emp.id=pm.engineer_id ) as \"Engineer\"\n",
    "    from app_preventivemaintenance pm\n",
    "    left join app_project ap on ap.id = pm.project_id\n",
    "    left join app_company ac on ac.id = ap.company_id\n",
    "    left join app_employee ae on ae.id =pm.team_lead_id\n",
    "    where  pm.planned_date>='{first_day_month}' and pm.planned_date<'{first_day_next_month}'\n",
    "    and ac.is_managed_by_admin = {is_only_admin}\n",
    "    order by  ac.company_full_name,ap.enq_id,pm.remark\n",
    "    \"\"\"\n",
    "# print(sql_pm)"
   ]
  },
  {
   "cell_type": "code",
   "execution_count": 11,
   "metadata": {},
   "outputs": [
    {
     "name": "stdout",
     "output_type": "stream",
     "text": [
      "<class 'pandas.core.frame.DataFrame'>\n",
      "RangeIndex: 73 entries, 0 to 72\n",
      "Data columns (total 10 columns):\n",
      " #   Column             Non-Null Count  Dtype \n",
      "---  ------             --------------  ----- \n",
      " 0   No                 73 non-null     int64 \n",
      " 1   ชื่อลูกค้า         73 non-null     object\n",
      " 2   เลขที่สัญญา        73 non-null     object\n",
      " 3   ENQ                73 non-null     object\n",
      " 4   ชื่อโครงการ        73 non-null     object\n",
      " 5   แผนจะทำPM          73 non-null     object\n",
      " 6   วันสุดท้ายที่ทำPM  73 non-null     object\n",
      " 7   งวดPM              73 non-null     object\n",
      " 8   หัวหน้าทีม         73 non-null     object\n",
      " 9   Engineer           73 non-null     object\n",
      "dtypes: int64(1), object(9)\n",
      "memory usage: 5.8+ KB\n"
     ]
    },
    {
     "data": {
      "text/html": [
       "<div>\n",
       "<style scoped>\n",
       "    .dataframe tbody tr th:only-of-type {\n",
       "        vertical-align: middle;\n",
       "    }\n",
       "\n",
       "    .dataframe tbody tr th {\n",
       "        vertical-align: top;\n",
       "    }\n",
       "\n",
       "    .dataframe thead th {\n",
       "        text-align: right;\n",
       "    }\n",
       "</style>\n",
       "<table border=\"1\" class=\"dataframe\">\n",
       "  <thead>\n",
       "    <tr style=\"text-align: right;\">\n",
       "      <th></th>\n",
       "      <th>No</th>\n",
       "      <th>ชื่อลูกค้า</th>\n",
       "      <th>เลขที่สัญญา</th>\n",
       "      <th>ENQ</th>\n",
       "      <th>ชื่อโครงการ</th>\n",
       "      <th>แผนจะทำPM</th>\n",
       "      <th>วันสุดท้ายที่ทำPM</th>\n",
       "      <th>งวดPM</th>\n",
       "      <th>หัวหน้าทีม</th>\n",
       "      <th>Engineer</th>\n",
       "    </tr>\n",
       "  </thead>\n",
       "  <tbody>\n",
       "    <tr>\n",
       "      <th>0</th>\n",
       "      <td>1</td>\n",
       "      <td>Advanced Info Services Public Company Limited</td>\n",
       "      <td></td>\n",
       "      <td>ENQ/66-487</td>\n",
       "      <td>Preventive Maintenance HPE 12 Servers AIS CSOC...</td>\n",
       "      <td>Nov 2023</td>\n",
       "      <td>30 Nov 2023</td>\n",
       "      <td>1/2 : HPE CSOC (Logical)</td>\n",
       "      <td>Yutthana Klinmala</td>\n",
       "      <td>Tura Klinmala</td>\n",
       "    </tr>\n",
       "    <tr>\n",
       "      <th>1</th>\n",
       "      <td>2</td>\n",
       "      <td>Advanced Info Services Public Company Limited</td>\n",
       "      <td></td>\n",
       "      <td>ENQ/66-487</td>\n",
       "      <td>Preventive Maintenance HPE 12 Servers AIS CSOC...</td>\n",
       "      <td>Nov 2023</td>\n",
       "      <td>30 Nov 2023</td>\n",
       "      <td>1/2 : HPE CSOC (Physical)</td>\n",
       "      <td>Boonlert Kawta</td>\n",
       "      <td>Paradon Srimode</td>\n",
       "    </tr>\n",
       "    <tr>\n",
       "      <th>2</th>\n",
       "      <td>3</td>\n",
       "      <td>Bangkok Bank Public Company Limited</td>\n",
       "      <td></td>\n",
       "      <td>ENQ/65-412</td>\n",
       "      <td>BBL-โครงการ MA 2 ปี สำหรับ NetApp AFF 800</td>\n",
       "      <td>Nov 2023</td>\n",
       "      <td>30 Nov 2023</td>\n",
       "      <td>5/8</td>\n",
       "      <td>Boonlert Kawta</td>\n",
       "      <td>Sitthikorn Prakorngjitman</td>\n",
       "    </tr>\n",
       "    <tr>\n",
       "      <th>3</th>\n",
       "      <td>4</td>\n",
       "      <td>Bangkok Bank Public Company Limited</td>\n",
       "      <td></td>\n",
       "      <td>ENQ/66-999</td>\n",
       "      <td>BBL Project Test 01</td>\n",
       "      <td>Nov 2023</td>\n",
       "      <td>30 Nov 2023</td>\n",
       "      <td>1/4 - NetApp- DC</td>\n",
       "      <td>Boonlert Kawta</td>\n",
       "      <td>Sitthikorn Prakorngjitman</td>\n",
       "    </tr>\n",
       "    <tr>\n",
       "      <th>4</th>\n",
       "      <td>5</td>\n",
       "      <td>Bangkok Bank Public Company Limited</td>\n",
       "      <td></td>\n",
       "      <td>ENQ/66-999</td>\n",
       "      <td>BBL Project Test 01</td>\n",
       "      <td>Nov 2023</td>\n",
       "      <td>30 Nov 2023</td>\n",
       "      <td>1/4 - NetApp - DR</td>\n",
       "      <td>Boonlert Kawta</td>\n",
       "      <td>Sitthikorn Prakorngjitman</td>\n",
       "    </tr>\n",
       "  </tbody>\n",
       "</table>\n",
       "</div>"
      ],
      "text/plain": [
       "   No                                     ชื่อลูกค้า เลขที่สัญญา         ENQ  \\\n",
       "0   1  Advanced Info Services Public Company Limited              ENQ/66-487   \n",
       "1   2  Advanced Info Services Public Company Limited              ENQ/66-487   \n",
       "2   3            Bangkok Bank Public Company Limited              ENQ/65-412   \n",
       "3   4            Bangkok Bank Public Company Limited              ENQ/66-999   \n",
       "4   5            Bangkok Bank Public Company Limited              ENQ/66-999   \n",
       "\n",
       "                                         ชื่อโครงการ แผนจะทำPM  \\\n",
       "0  Preventive Maintenance HPE 12 Servers AIS CSOC...  Nov 2023   \n",
       "1  Preventive Maintenance HPE 12 Servers AIS CSOC...  Nov 2023   \n",
       "2          BBL-โครงการ MA 2 ปี สำหรับ NetApp AFF 800  Nov 2023   \n",
       "3                                BBL Project Test 01  Nov 2023   \n",
       "4                                BBL Project Test 01  Nov 2023   \n",
       "\n",
       "  วันสุดท้ายที่ทำPM                      งวดPM         หัวหน้าทีม  \\\n",
       "0       30 Nov 2023   1/2 : HPE CSOC (Logical)  Yutthana Klinmala   \n",
       "1       30 Nov 2023  1/2 : HPE CSOC (Physical)     Boonlert Kawta   \n",
       "2       30 Nov 2023                        5/8     Boonlert Kawta   \n",
       "3       30 Nov 2023           1/4 - NetApp- DC     Boonlert Kawta   \n",
       "4       30 Nov 2023          1/4 - NetApp - DR     Boonlert Kawta   \n",
       "\n",
       "                    Engineer  \n",
       "0              Tura Klinmala  \n",
       "1            Paradon Srimode  \n",
       "2  Sitthikorn Prakorngjitman  \n",
       "3  Sitthikorn Prakorngjitman  \n",
       "4  Sitthikorn Prakorngjitman  "
      ]
     },
     "execution_count": 11,
     "metadata": {},
     "output_type": "execute_result"
    }
   ],
   "source": [
    "dfPM=list_data(sql_pm,None,get_postgres_conn())\n",
    "dfPM=do_something_df(dfPM)\n",
    "dfPM.info()\n",
    "dfPM.head()"
   ]
  },
  {
   "cell_type": "code",
   "execution_count": 12,
   "metadata": {},
   "outputs": [],
   "source": [
    "sql_item = f\"\"\"\n",
    " select  ac.company_full_name as \"ชื่อลูกค้า\",\n",
    " ap.contract_no as \"เลขที่สัญญา\",ap.enq_id as \"ENQ\" , ap.project_name as \"ชื่อโครงการ\",\n",
    "\n",
    "             ai.serial_number as \"Serial\",\n",
    "             (select  productype_name from app_product_type where id=ai.product_type_id ) as \"ProudctType\",\n",
    "             (select  brand_name from app_brand where id=ai.brand_id ) as \"Brand\",\n",
    "              (select  model_name from app_model where id=ai.model_id ) as \"Model\",\n",
    "\n",
    "             TO_CHAR(pm.planned_date,'Mon YYYY') as \"แผนจะทำPM\",TO_CHAR(pm.ended_pm_date,'DD Mon YYYY') as \"วันสุดท้ายที่ทำPM\",\n",
    "             pm.remark as  \"งวดPM\",ae.employee_name as \"หัวหน้าทีม\",\n",
    "             (select emp.employee_name emp from app_employee emp where emp.id=pm.engineer_id ) as \"Planed Engineer\",\n",
    "\n",
    "           (select employee_name from app_employee eng_pm  where eng_pm.id=pm_item.pm_engineer_id ) as \"Operation Engineer\",\n",
    "           TO_CHAR(pm_item.actual_date,'DD Mon YYYY') as \"ActualDate\",pm_item.call_number as \"Call Number\",\n",
    "\n",
    "            (select employee_name from app_employee eng_doc  where eng_doc.id=pm_item.document_engineer_id ) as \"Doc Engineer\",\n",
    "           TO_CHAR(pm_item.document_date,'DD Mon YYYY') as \"DocumentDate\",pm_item.pm_document_number as \"Doc Number\",\n",
    "           pm_item.remark as \"Remark\"\n",
    "\n",
    "from app_pm_inventory as pm_item\n",
    "left join app_inventory ai on ai.id = pm_item.inventory_id\n",
    "-- inner join app_product_type  product_type on ai.product_type_id = product_type.id\n",
    "left join app_preventivemaintenance pm on pm.id = pm_item.pm_master_id\n",
    "left join app_project ap on ap.id = pm.project_id\n",
    "left join app_company ac on ac.id = ap.company_id\n",
    "left join app_employee ae on ae.id =pm.team_lead_id\n",
    "\n",
    "where pm_item.is_pm=True and ac.is_managed_by_admin = {is_only_admin}\n",
    "and  pm.planned_date>='{first_day_month}' and pm.planned_date<'{first_day_next_month}'\n",
    "\n",
    "order by  ac.company_full_name,ap.enq_id,pm.remark\n",
    "\n",
    "    \"\"\"\n",
    "\n",
    "# print(sql_item)"
   ]
  },
  {
   "cell_type": "code",
   "execution_count": 13,
   "metadata": {},
   "outputs": [
    {
     "name": "stdout",
     "output_type": "stream",
     "text": [
      "<class 'pandas.core.frame.DataFrame'>\n",
      "RangeIndex: 932 entries, 0 to 931\n",
      "Data columns (total 21 columns):\n",
      " #   Column              Non-Null Count  Dtype \n",
      "---  ------              --------------  ----- \n",
      " 0   No                  932 non-null    int64 \n",
      " 1   ชื่อลูกค้า          932 non-null    object\n",
      " 2   เลขที่สัญญา         932 non-null    object\n",
      " 3   ENQ                 932 non-null    object\n",
      " 4   ชื่อโครงการ         932 non-null    object\n",
      " 5   Serial              932 non-null    object\n",
      " 6   ProudctType         932 non-null    object\n",
      " 7   Brand               932 non-null    object\n",
      " 8   Model               932 non-null    object\n",
      " 9   แผนจะทำPM           932 non-null    object\n",
      " 10  วันสุดท้ายที่ทำPM   932 non-null    object\n",
      " 11  งวดPM               932 non-null    object\n",
      " 12  หัวหน้าทีม          932 non-null    object\n",
      " 13  Planed Engineer     932 non-null    object\n",
      " 14  Operation Engineer  932 non-null    object\n",
      " 15  ActualDate          932 non-null    object\n",
      " 16  Call Number         932 non-null    object\n",
      " 17  Doc Engineer        932 non-null    object\n",
      " 18  DocumentDate        932 non-null    object\n",
      " 19  Doc Number          932 non-null    object\n",
      " 20  Remark              932 non-null    object\n",
      "dtypes: int64(1), object(20)\n",
      "memory usage: 153.0+ KB\n"
     ]
    },
    {
     "data": {
      "text/html": [
       "<div>\n",
       "<style scoped>\n",
       "    .dataframe tbody tr th:only-of-type {\n",
       "        vertical-align: middle;\n",
       "    }\n",
       "\n",
       "    .dataframe tbody tr th {\n",
       "        vertical-align: top;\n",
       "    }\n",
       "\n",
       "    .dataframe thead th {\n",
       "        text-align: right;\n",
       "    }\n",
       "</style>\n",
       "<table border=\"1\" class=\"dataframe\">\n",
       "  <thead>\n",
       "    <tr style=\"text-align: right;\">\n",
       "      <th></th>\n",
       "      <th>No</th>\n",
       "      <th>ชื่อลูกค้า</th>\n",
       "      <th>เลขที่สัญญา</th>\n",
       "      <th>ENQ</th>\n",
       "      <th>ชื่อโครงการ</th>\n",
       "      <th>Serial</th>\n",
       "      <th>ProudctType</th>\n",
       "      <th>Brand</th>\n",
       "      <th>Model</th>\n",
       "      <th>แผนจะทำPM</th>\n",
       "      <th>...</th>\n",
       "      <th>งวดPM</th>\n",
       "      <th>หัวหน้าทีม</th>\n",
       "      <th>Planed Engineer</th>\n",
       "      <th>Operation Engineer</th>\n",
       "      <th>ActualDate</th>\n",
       "      <th>Call Number</th>\n",
       "      <th>Doc Engineer</th>\n",
       "      <th>DocumentDate</th>\n",
       "      <th>Doc Number</th>\n",
       "      <th>Remark</th>\n",
       "    </tr>\n",
       "  </thead>\n",
       "  <tbody>\n",
       "    <tr>\n",
       "      <th>0</th>\n",
       "      <td>1</td>\n",
       "      <td>Advanced Info Services Public Company Limited</td>\n",
       "      <td></td>\n",
       "      <td>ENQ/66-487</td>\n",
       "      <td>Preventive Maintenance HPE 12 Servers AIS CSOC...</td>\n",
       "      <td>SGH035S31B</td>\n",
       "      <td>Server</td>\n",
       "      <td>HPE</td>\n",
       "      <td>ProLiant DL560 Gen10</td>\n",
       "      <td>Nov 2023</td>\n",
       "      <td>...</td>\n",
       "      <td>1/2 : HPE CSOC (Logical)</td>\n",
       "      <td>Yutthana Klinmala</td>\n",
       "      <td>Tura Klinmala</td>\n",
       "      <td></td>\n",
       "      <td></td>\n",
       "      <td></td>\n",
       "      <td></td>\n",
       "      <td></td>\n",
       "      <td></td>\n",
       "      <td></td>\n",
       "    </tr>\n",
       "    <tr>\n",
       "      <th>1</th>\n",
       "      <td>2</td>\n",
       "      <td>Advanced Info Services Public Company Limited</td>\n",
       "      <td></td>\n",
       "      <td>ENQ/66-487</td>\n",
       "      <td>Preventive Maintenance HPE 12 Servers AIS CSOC...</td>\n",
       "      <td>SGH035S31L</td>\n",
       "      <td>Server</td>\n",
       "      <td>HPE</td>\n",
       "      <td>ProLiant DL560 Gen10</td>\n",
       "      <td>Nov 2023</td>\n",
       "      <td>...</td>\n",
       "      <td>1/2 : HPE CSOC (Logical)</td>\n",
       "      <td>Yutthana Klinmala</td>\n",
       "      <td>Tura Klinmala</td>\n",
       "      <td></td>\n",
       "      <td></td>\n",
       "      <td></td>\n",
       "      <td></td>\n",
       "      <td></td>\n",
       "      <td></td>\n",
       "      <td></td>\n",
       "    </tr>\n",
       "    <tr>\n",
       "      <th>2</th>\n",
       "      <td>3</td>\n",
       "      <td>Advanced Info Services Public Company Limited</td>\n",
       "      <td></td>\n",
       "      <td>ENQ/66-487</td>\n",
       "      <td>Preventive Maintenance HPE 12 Servers AIS CSOC...</td>\n",
       "      <td>SGH932V6SQ</td>\n",
       "      <td>Server</td>\n",
       "      <td>HPE</td>\n",
       "      <td>ProLiant DL560 Gen10</td>\n",
       "      <td>Nov 2023</td>\n",
       "      <td>...</td>\n",
       "      <td>1/2 : HPE CSOC (Logical)</td>\n",
       "      <td>Yutthana Klinmala</td>\n",
       "      <td>Tura Klinmala</td>\n",
       "      <td></td>\n",
       "      <td></td>\n",
       "      <td></td>\n",
       "      <td></td>\n",
       "      <td></td>\n",
       "      <td></td>\n",
       "      <td></td>\n",
       "    </tr>\n",
       "    <tr>\n",
       "      <th>3</th>\n",
       "      <td>4</td>\n",
       "      <td>Advanced Info Services Public Company Limited</td>\n",
       "      <td></td>\n",
       "      <td>ENQ/66-487</td>\n",
       "      <td>Preventive Maintenance HPE 12 Servers AIS CSOC...</td>\n",
       "      <td>SGH932V6SV</td>\n",
       "      <td>Server</td>\n",
       "      <td>HPE</td>\n",
       "      <td>ProLiant DL560 Gen10</td>\n",
       "      <td>Nov 2023</td>\n",
       "      <td>...</td>\n",
       "      <td>1/2 : HPE CSOC (Logical)</td>\n",
       "      <td>Yutthana Klinmala</td>\n",
       "      <td>Tura Klinmala</td>\n",
       "      <td></td>\n",
       "      <td></td>\n",
       "      <td></td>\n",
       "      <td></td>\n",
       "      <td></td>\n",
       "      <td></td>\n",
       "      <td></td>\n",
       "    </tr>\n",
       "    <tr>\n",
       "      <th>4</th>\n",
       "      <td>5</td>\n",
       "      <td>Advanced Info Services Public Company Limited</td>\n",
       "      <td></td>\n",
       "      <td>ENQ/66-487</td>\n",
       "      <td>Preventive Maintenance HPE 12 Servers AIS CSOC...</td>\n",
       "      <td>SGH932V6SZ</td>\n",
       "      <td>Server</td>\n",
       "      <td>HPE</td>\n",
       "      <td>ProLiant DL560 Gen10</td>\n",
       "      <td>Nov 2023</td>\n",
       "      <td>...</td>\n",
       "      <td>1/2 : HPE CSOC (Logical)</td>\n",
       "      <td>Yutthana Klinmala</td>\n",
       "      <td>Tura Klinmala</td>\n",
       "      <td></td>\n",
       "      <td></td>\n",
       "      <td></td>\n",
       "      <td></td>\n",
       "      <td></td>\n",
       "      <td></td>\n",
       "      <td></td>\n",
       "    </tr>\n",
       "  </tbody>\n",
       "</table>\n",
       "<p>5 rows × 21 columns</p>\n",
       "</div>"
      ],
      "text/plain": [
       "   No                                     ชื่อลูกค้า เลขที่สัญญา         ENQ  \\\n",
       "0   1  Advanced Info Services Public Company Limited              ENQ/66-487   \n",
       "1   2  Advanced Info Services Public Company Limited              ENQ/66-487   \n",
       "2   3  Advanced Info Services Public Company Limited              ENQ/66-487   \n",
       "3   4  Advanced Info Services Public Company Limited              ENQ/66-487   \n",
       "4   5  Advanced Info Services Public Company Limited              ENQ/66-487   \n",
       "\n",
       "                                         ชื่อโครงการ      Serial ProudctType  \\\n",
       "0  Preventive Maintenance HPE 12 Servers AIS CSOC...  SGH035S31B      Server   \n",
       "1  Preventive Maintenance HPE 12 Servers AIS CSOC...  SGH035S31L      Server   \n",
       "2  Preventive Maintenance HPE 12 Servers AIS CSOC...  SGH932V6SQ      Server   \n",
       "3  Preventive Maintenance HPE 12 Servers AIS CSOC...  SGH932V6SV      Server   \n",
       "4  Preventive Maintenance HPE 12 Servers AIS CSOC...  SGH932V6SZ      Server   \n",
       "\n",
       "  Brand                 Model แผนจะทำPM  ...                     งวดPM  \\\n",
       "0   HPE  ProLiant DL560 Gen10  Nov 2023  ...  1/2 : HPE CSOC (Logical)   \n",
       "1   HPE  ProLiant DL560 Gen10  Nov 2023  ...  1/2 : HPE CSOC (Logical)   \n",
       "2   HPE  ProLiant DL560 Gen10  Nov 2023  ...  1/2 : HPE CSOC (Logical)   \n",
       "3   HPE  ProLiant DL560 Gen10  Nov 2023  ...  1/2 : HPE CSOC (Logical)   \n",
       "4   HPE  ProLiant DL560 Gen10  Nov 2023  ...  1/2 : HPE CSOC (Logical)   \n",
       "\n",
       "          หัวหน้าทีม Planed Engineer Operation Engineer ActualDate  \\\n",
       "0  Yutthana Klinmala   Tura Klinmala                                 \n",
       "1  Yutthana Klinmala   Tura Klinmala                                 \n",
       "2  Yutthana Klinmala   Tura Klinmala                                 \n",
       "3  Yutthana Klinmala   Tura Klinmala                                 \n",
       "4  Yutthana Klinmala   Tura Klinmala                                 \n",
       "\n",
       "  Call Number Doc Engineer DocumentDate Doc Number Remark  \n",
       "0                                                          \n",
       "1                                                          \n",
       "2                                                          \n",
       "3                                                          \n",
       "4                                                          \n",
       "\n",
       "[5 rows x 21 columns]"
      ]
     },
     "execution_count": 13,
     "metadata": {},
     "output_type": "execute_result"
    }
   ],
   "source": [
    "dfItem=list_data(sql_item,None,get_postgres_conn())\n",
    "dfItem=do_something_df(dfItem)\n",
    "dfItem.info()\n",
    "dfItem.head()"
   ]
  },
  {
   "cell_type": "markdown",
   "metadata": {},
   "source": [
    "# Excel file"
   ]
  },
  {
   "cell_type": "code",
   "execution_count": 14,
   "metadata": {},
   "outputs": [
    {
     "name": "stdout",
     "output_type": "stream",
     "text": [
      "Exported SM-PM_Nov23_3011231404.xlsx file for email successfully.\n"
     ]
    }
   ],
   "source": [
    "with pd.ExcelWriter(file_path) as writer:\n",
    "    dfPM.to_excel(writer, sheet_name=\"PM-Plan\",index=False)\n",
    "    dfItem.to_excel(writer, sheet_name=\"PM-Item\",index=False)\n",
    "    print(f\"Exported {file_name} file for email successfully.\")"
   ]
  },
  {
   "cell_type": "markdown",
   "metadata": {},
   "source": [
    "# Email Office 365"
   ]
  },
  {
   "cell_type": "code",
   "execution_count": null,
   "metadata": {},
   "outputs": [],
   "source": []
  },
  {
   "cell_type": "code",
   "execution_count": null,
   "metadata": {},
   "outputs": [],
   "source": []
  },
  {
   "cell_type": "code",
   "execution_count": null,
   "metadata": {},
   "outputs": [],
   "source": []
  },
  {
   "cell_type": "markdown",
   "metadata": {},
   "source": [
    "# Delete attach files : if sent email with excel file completely"
   ]
  },
  {
   "cell_type": "code",
   "execution_count": 15,
   "metadata": {},
   "outputs": [],
   "source": [
    "\n",
    "os.remove(f\"{file_path}\")"
   ]
  },
  {
   "cell_type": "code",
   "execution_count": null,
   "metadata": {},
   "outputs": [],
   "source": []
  },
  {
   "cell_type": "code",
   "execution_count": null,
   "metadata": {},
   "outputs": [],
   "source": [
    "# return True"
   ]
  },
  {
   "cell_type": "code",
   "execution_count": null,
   "metadata": {},
   "outputs": [],
   "source": []
  }
 ],
 "metadata": {
  "kernelspec": {
   "display_name": "Python 3 (ipykernel)",
   "language": "python",
   "name": "python3"
  },
  "language_info": {
   "codemirror_mode": {
    "name": "ipython",
    "version": 3
   },
   "file_extension": ".py",
   "mimetype": "text/x-python",
   "name": "python",
   "nbconvert_exporter": "python",
   "pygments_lexer": "ipython3",
   "version": "3.9.7"
  }
 },
 "nbformat": 4,
 "nbformat_minor": 4
}
