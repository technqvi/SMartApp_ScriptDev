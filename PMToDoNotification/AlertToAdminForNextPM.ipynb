{
 "cells": [
  {
   "cell_type": "code",
   "execution_count": 121,
   "metadata": {
    "collapsed": false,
    "jupyter": {
     "outputs_hidden": false
    },
    "pycharm": {
     "name": "#%%\n"
    }
   },
   "outputs": [],
   "source": [
    "import psycopg2\n",
    "import psycopg2.extras as extras\n",
    "\n",
    "import pandas as pd\n",
    "from dotenv import dotenv_values\n",
    "\n",
    "from datetime import datetime,date\n",
    "from dateutil import relativedelta\n",
    "import os"
   ]
  },
  {
   "cell_type": "markdown",
   "metadata": {},
   "source": [
    "# Paramter"
   ]
  },
  {
   "cell_type": "code",
   "execution_count": 122,
   "metadata": {},
   "outputs": [],
   "source": [
    "is_only_admin=0\n",
    "is_only_admin=bool(is_only_admin)\n",
    "\n"
   ]
  },
  {
   "cell_type": "markdown",
   "metadata": {},
   "source": [
    "# Get the next month \n",
    "* Set Window Sheduler to monthly run at the last day of The month\n",
    "* No matter what day you run this job , the program will  get PMs of the  next month"
   ]
  },
  {
   "cell_type": "code",
   "execution_count": 123,
   "metadata": {},
   "outputs": [
    {
     "name": "stdout",
     "output_type": "stream",
     "text": [
      "2023-11-29 00:00:00\n",
      "2023-12-01 00:00:00\n",
      "2024-01-01 00:00:00\n"
     ]
    }
   ],
   "source": [
    "\n",
    "#dt = datetime.strptime(datetime(2023,12,4,10,0).strftime('%Y-%m-%d'),'%Y-%m-%d')\n",
    "dtNow=datetime.now()\n",
    "dt = datetime.strptime(dtNow.strftime('%Y-%m-%d'),'%Y-%m-%d')\n",
    "print(dt)\n",
    "\n",
    "first_day_next_month = dt + relativedelta.relativedelta(months=1, day=1)\n",
    "first_day_2next_month = dt + relativedelta.relativedelta(months=2, day=1)\n",
    "print(first_day_next_month )   \n",
    "print(first_day_2next_month ) \n"
   ]
  },
  {
   "cell_type": "markdown",
   "metadata": {},
   "source": [
    "# Create File Name and Path to attach to email"
   ]
  },
  {
   "cell_type": "code",
   "execution_count": 124,
   "metadata": {},
   "outputs": [
    {
     "data": {
      "text/plain": [
       "'SM-PM_Dec23_2911230611.xlsx'"
      ]
     },
     "execution_count": 124,
     "metadata": {},
     "output_type": "execute_result"
    }
   ],
   "source": [
    "file_name=f\"PM_{first_day_next_month.strftime('%b%y')}_{dtNow.strftime('%d%m%y%H%M')}.xlsx\"\n",
    "if is_only_admin==False:\n",
    "   file_name=f\"SM-{file_name}\" \n",
    "else:\n",
    "   file_name=f\"None-SM-{file_name}\" \n",
    "file_name"
   ]
  },
  {
   "cell_type": "code",
   "execution_count": 125,
   "metadata": {
    "collapsed": false,
    "jupyter": {
     "outputs_hidden": false
    },
    "pycharm": {
     "name": "#%%\n"
    }
   },
   "outputs": [],
   "source": [
    "env_path=r'D:\\PythonDev\\Yit\\SMartApp_ScriptDev\\.env'\n",
    "config = dotenv_values(dotenv_path=env_path)"
   ]
  },
  {
   "cell_type": "code",
   "execution_count": 126,
   "metadata": {},
   "outputs": [],
   "source": [
    "def get_postgres_conn():\n",
    " try:\n",
    "  conn = psycopg2.connect(\n",
    "        database=config['DATABASES_NAME'], user=config['DATABASES_USER'],\n",
    "      password=config['DATABASES_PASSWORD'], host=config['DATABASES_HOST']\n",
    "     )\n",
    "  return conn\n",
    "\n",
    " except Exception as error:\n",
    "  print(error)      \n",
    "  raise error\n",
    "def list_data(sql,params,connection):\n",
    " df=None   \n",
    " with connection.cursor() as cursor:\n",
    "    \n",
    "    if params is None:\n",
    "       cursor.execute(sql)\n",
    "    else:\n",
    "       cursor.execute(sql,params)\n",
    "    \n",
    "    columns = [col[0] for col in cursor.description]\n",
    "    dataList = [dict(zip(columns, row)) for row in cursor.fetchall()]\n",
    "    df = pd.DataFrame(data=dataList) \n",
    " return df "
   ]
  },
  {
   "cell_type": "markdown",
   "metadata": {},
   "source": [
    "# Retrive data"
   ]
  },
  {
   "cell_type": "code",
   "execution_count": 127,
   "metadata": {},
   "outputs": [],
   "source": [
    "# https://github.com/technqvi/SMartApp/blob/main/app/pm_doc_manager/pm_export.py\n",
    "\n",
    "sql_pm=f\"\"\"\n",
    "    select ac.company_full_name as \"ชื่อลูกค้า\",\n",
    "    ap.contract_no as \"เลขที่สัญญา\",ap.enq_id as \"ENQ\" ,\n",
    "    ap.project_name as \"ชื่อโครงการ\",\n",
    "    TO_CHAR(pm.planned_date,'Mon YYYY') as \"แผนจะทำPM\",\n",
    "    TO_CHAR(pm.ended_pm_date,'DD Mon YYYY') as \"วันสุดท้ายที่ทำPM\",\n",
    "    pm.remark as  \"งวดPM\",\n",
    "    ae.employee_name as \"หัวหน้าทีม\",\n",
    "    (select emp.employee_name emp from app_employee emp where emp.id=pm.engineer_id ) as \"Engineer\"\n",
    "    from app_preventivemaintenance pm\n",
    "    left join app_project ap on ap.id = pm.project_id\n",
    "    left join app_company ac on ac.id = ap.company_id\n",
    "    left join app_employee ae on ae.id =pm.team_lead_id\n",
    "    where  pm.planned_date>='{first_day_next_month}' and pm.planned_date<'{first_day_2next_month}'\n",
    "    and ac.is_managed_by_admin = {is_only_admin}\n",
    "    order by  ac.company_full_name,ap.enq_id,pm.remark\n",
    "    \"\"\"\n",
    "# print(sql_pm)"
   ]
  },
  {
   "cell_type": "code",
   "execution_count": 128,
   "metadata": {},
   "outputs": [
    {
     "name": "stdout",
     "output_type": "stream",
     "text": [
      "<class 'pandas.core.frame.DataFrame'>\n",
      "RangeIndex: 114 entries, 0 to 113\n",
      "Data columns (total 9 columns):\n",
      " #   Column             Non-Null Count  Dtype \n",
      "---  ------             --------------  ----- \n",
      " 0   ชื่อลูกค้า         114 non-null    object\n",
      " 1   เลขที่สัญญา        0 non-null      object\n",
      " 2   ENQ                114 non-null    object\n",
      " 3   ชื่อโครงการ        114 non-null    object\n",
      " 4   แผนจะทำPM          114 non-null    object\n",
      " 5   วันสุดท้ายที่ทำPM  114 non-null    object\n",
      " 6   งวดPM              114 non-null    object\n",
      " 7   หัวหน้าทีม         114 non-null    object\n",
      " 8   Engineer           99 non-null     object\n",
      "dtypes: object(9)\n",
      "memory usage: 8.1+ KB\n"
     ]
    },
    {
     "data": {
      "text/html": [
       "<div>\n",
       "<style scoped>\n",
       "    .dataframe tbody tr th:only-of-type {\n",
       "        vertical-align: middle;\n",
       "    }\n",
       "\n",
       "    .dataframe tbody tr th {\n",
       "        vertical-align: top;\n",
       "    }\n",
       "\n",
       "    .dataframe thead th {\n",
       "        text-align: right;\n",
       "    }\n",
       "</style>\n",
       "<table border=\"1\" class=\"dataframe\">\n",
       "  <thead>\n",
       "    <tr style=\"text-align: right;\">\n",
       "      <th></th>\n",
       "      <th>ชื่อลูกค้า</th>\n",
       "      <th>เลขที่สัญญา</th>\n",
       "      <th>ENQ</th>\n",
       "      <th>ชื่อโครงการ</th>\n",
       "      <th>แผนจะทำPM</th>\n",
       "      <th>วันสุดท้ายที่ทำPM</th>\n",
       "      <th>งวดPM</th>\n",
       "      <th>หัวหน้าทีม</th>\n",
       "      <th>Engineer</th>\n",
       "    </tr>\n",
       "  </thead>\n",
       "  <tbody>\n",
       "    <tr>\n",
       "      <th>0</th>\n",
       "      <td>Bangkok Airways Public Co.,Ltd.</td>\n",
       "      <td>None</td>\n",
       "      <td>ENQ/65-454</td>\n",
       "      <td>MA for Bangkok Airway (SAP HANA MANGO 2023)</td>\n",
       "      <td>Dec 2023</td>\n",
       "      <td>31 Dec 2023</td>\n",
       "      <td>4/4 - Cisco Network</td>\n",
       "      <td>Thitipong   Limudomsuk</td>\n",
       "      <td>Attasit somsuk</td>\n",
       "    </tr>\n",
       "    <tr>\n",
       "      <th>1</th>\n",
       "      <td>Bangkok Airways Public Co.,Ltd.</td>\n",
       "      <td>None</td>\n",
       "      <td>ENQ/65-454</td>\n",
       "      <td>MA for Bangkok Airway (SAP HANA MANGO 2023)</td>\n",
       "      <td>Dec 2023</td>\n",
       "      <td>31 Dec 2023</td>\n",
       "      <td>4/4 - Cisco UCS Chassis</td>\n",
       "      <td>Yutthana Klinmala</td>\n",
       "      <td>Tura Klinmala</td>\n",
       "    </tr>\n",
       "    <tr>\n",
       "      <th>2</th>\n",
       "      <td>Bangkok Airways Public Co.,Ltd.</td>\n",
       "      <td>None</td>\n",
       "      <td>ENQ/65-454</td>\n",
       "      <td>MA for Bangkok Airway (SAP HANA MANGO 2023)</td>\n",
       "      <td>Dec 2023</td>\n",
       "      <td>31 Dec 2023</td>\n",
       "      <td>4/4 - EMC VNX</td>\n",
       "      <td>Boonlert Kawta</td>\n",
       "      <td>Akkachit Krasasung</td>\n",
       "    </tr>\n",
       "    <tr>\n",
       "      <th>3</th>\n",
       "      <td>Bangkok Airways Public Co.,Ltd.</td>\n",
       "      <td>None</td>\n",
       "      <td>ENQ/65-454</td>\n",
       "      <td>MA for Bangkok Airway (SAP HANA MANGO 2023)</td>\n",
       "      <td>Dec 2023</td>\n",
       "      <td>31 Dec 2023</td>\n",
       "      <td>4/4 - HPE</td>\n",
       "      <td>Boonlert Kawta</td>\n",
       "      <td>Akkachit Krasasung</td>\n",
       "    </tr>\n",
       "    <tr>\n",
       "      <th>4</th>\n",
       "      <td>Bangkok Airways Public Co.,Ltd.</td>\n",
       "      <td>None</td>\n",
       "      <td>ENQ/65-454</td>\n",
       "      <td>MA for Bangkok Airway (SAP HANA MANGO 2023)</td>\n",
       "      <td>Dec 2023</td>\n",
       "      <td>31 Dec 2023</td>\n",
       "      <td>4/4 - Trend Micro Cloud One</td>\n",
       "      <td>Chaipus Aupatamwipanon</td>\n",
       "      <td>Aod Wongswat</td>\n",
       "    </tr>\n",
       "  </tbody>\n",
       "</table>\n",
       "</div>"
      ],
      "text/plain": [
       "                        ชื่อลูกค้า เลขที่สัญญา         ENQ  \\\n",
       "0  Bangkok Airways Public Co.,Ltd.        None  ENQ/65-454   \n",
       "1  Bangkok Airways Public Co.,Ltd.        None  ENQ/65-454   \n",
       "2  Bangkok Airways Public Co.,Ltd.        None  ENQ/65-454   \n",
       "3  Bangkok Airways Public Co.,Ltd.        None  ENQ/65-454   \n",
       "4  Bangkok Airways Public Co.,Ltd.        None  ENQ/65-454   \n",
       "\n",
       "                                   ชื่อโครงการ แผนจะทำPM วันสุดท้ายที่ทำPM  \\\n",
       "0  MA for Bangkok Airway (SAP HANA MANGO 2023)  Dec 2023       31 Dec 2023   \n",
       "1  MA for Bangkok Airway (SAP HANA MANGO 2023)  Dec 2023       31 Dec 2023   \n",
       "2  MA for Bangkok Airway (SAP HANA MANGO 2023)  Dec 2023       31 Dec 2023   \n",
       "3  MA for Bangkok Airway (SAP HANA MANGO 2023)  Dec 2023       31 Dec 2023   \n",
       "4  MA for Bangkok Airway (SAP HANA MANGO 2023)  Dec 2023       31 Dec 2023   \n",
       "\n",
       "                         งวดPM              หัวหน้าทีม            Engineer  \n",
       "0          4/4 - Cisco Network  Thitipong   Limudomsuk      Attasit somsuk  \n",
       "1      4/4 - Cisco UCS Chassis       Yutthana Klinmala       Tura Klinmala  \n",
       "2                4/4 - EMC VNX          Boonlert Kawta  Akkachit Krasasung  \n",
       "3                    4/4 - HPE          Boonlert Kawta  Akkachit Krasasung  \n",
       "4  4/4 - Trend Micro Cloud One  Chaipus Aupatamwipanon        Aod Wongswat  "
      ]
     },
     "execution_count": 128,
     "metadata": {},
     "output_type": "execute_result"
    }
   ],
   "source": [
    "dfPM=list_data(sql_pm,None,get_postgres_conn())\n",
    "dfPM.info()\n",
    "dfPM.head()"
   ]
  },
  {
   "cell_type": "code",
   "execution_count": 129,
   "metadata": {},
   "outputs": [],
   "source": [
    "sql_item = f\"\"\"\n",
    " select  ac.company_full_name as \"ชื่อลูกค้า\",\n",
    " ap.contract_no as \"เลขที่สัญญา\",ap.enq_id as \"ENQ\" , ap.project_name as \"ชื่อโครงการ\",\n",
    "\n",
    "             ai.serial_number as \"Serial\",\n",
    "             (select  productype_name from app_product_type where id=ai.product_type_id ) as \"ProudctType\",\n",
    "             (select  brand_name from app_brand where id=ai.brand_id ) as \"Brand\",\n",
    "              (select  model_name from app_model where id=ai.model_id ) as \"Model\",\n",
    "\n",
    "             TO_CHAR(pm.planned_date,'Mon YYYY') as \"แผนจะทำPM\",TO_CHAR(pm.ended_pm_date,'DD Mon YYYY') as \"วันสุดท้ายที่ทำPM\",\n",
    "             pm.remark as  \"งวดPM\",ae.employee_name as \"หัวหน้าทีม\",\n",
    "             (select emp.employee_name emp from app_employee emp where emp.id=pm.engineer_id ) as \"Planed Engineer\",\n",
    "\n",
    "           (select employee_name from app_employee eng_pm  where eng_pm.id=pm_item.pm_engineer_id ) as \"Operation Engineer\",\n",
    "           TO_CHAR(pm_item.actual_date,'DD Mon YYYY') as \"ActualDate\",pm_item.call_number as \"Call Number\",\n",
    "\n",
    "            (select employee_name from app_employee eng_doc  where eng_doc.id=pm_item.document_engineer_id ) as \"Doc Engineer\",\n",
    "           TO_CHAR(pm_item.document_date,'DD Mon YYYY') as \"DocumentDate\",pm_item.pm_document_number as \"Doc Number\",\n",
    "           pm_item.remark as \"Remark\"\n",
    "\n",
    "from app_pm_inventory as pm_item\n",
    "left join app_inventory ai on ai.id = pm_item.inventory_id\n",
    "-- inner join app_product_type  product_type on ai.product_type_id = product_type.id\n",
    "left join app_preventivemaintenance pm on pm.id = pm_item.pm_master_id\n",
    "left join app_project ap on ap.id = pm.project_id\n",
    "left join app_company ac on ac.id = ap.company_id\n",
    "left join app_employee ae on ae.id =pm.team_lead_id\n",
    "\n",
    "where pm_item.is_pm=True and ac.is_managed_by_admin = {is_only_admin}\n",
    "and  pm.planned_date>='{first_day_next_month}' and pm.planned_date<'{first_day_2next_month}'\n",
    "\n",
    "order by  ac.company_full_name,ap.enq_id,pm.remark\n",
    "\n",
    "    \"\"\"\n",
    "\n",
    "# print(sql_item)"
   ]
  },
  {
   "cell_type": "code",
   "execution_count": 130,
   "metadata": {},
   "outputs": [
    {
     "name": "stdout",
     "output_type": "stream",
     "text": [
      "<class 'pandas.core.frame.DataFrame'>\n",
      "RangeIndex: 821 entries, 0 to 820\n",
      "Data columns (total 20 columns):\n",
      " #   Column              Non-Null Count  Dtype \n",
      "---  ------              --------------  ----- \n",
      " 0   ชื่อลูกค้า          821 non-null    object\n",
      " 1   เลขที่สัญญา         0 non-null      object\n",
      " 2   ENQ                 821 non-null    object\n",
      " 3   ชื่อโครงการ         821 non-null    object\n",
      " 4   Serial              821 non-null    object\n",
      " 5   ProudctType         821 non-null    object\n",
      " 6   Brand               821 non-null    object\n",
      " 7   Model               821 non-null    object\n",
      " 8   แผนจะทำPM           821 non-null    object\n",
      " 9   วันสุดท้ายที่ทำPM   821 non-null    object\n",
      " 10  งวดPM               821 non-null    object\n",
      " 11  หัวหน้าทีม          821 non-null    object\n",
      " 12  Planed Engineer     707 non-null    object\n",
      " 13  Operation Engineer  56 non-null     object\n",
      " 14  ActualDate          56 non-null     object\n",
      " 15  Call Number         0 non-null      object\n",
      " 16  Doc Engineer        56 non-null     object\n",
      " 17  DocumentDate        56 non-null     object\n",
      " 18  Doc Number          0 non-null      object\n",
      " 19  Remark              0 non-null      object\n",
      "dtypes: object(20)\n",
      "memory usage: 128.4+ KB\n"
     ]
    },
    {
     "data": {
      "text/html": [
       "<div>\n",
       "<style scoped>\n",
       "    .dataframe tbody tr th:only-of-type {\n",
       "        vertical-align: middle;\n",
       "    }\n",
       "\n",
       "    .dataframe tbody tr th {\n",
       "        vertical-align: top;\n",
       "    }\n",
       "\n",
       "    .dataframe thead th {\n",
       "        text-align: right;\n",
       "    }\n",
       "</style>\n",
       "<table border=\"1\" class=\"dataframe\">\n",
       "  <thead>\n",
       "    <tr style=\"text-align: right;\">\n",
       "      <th></th>\n",
       "      <th>ชื่อลูกค้า</th>\n",
       "      <th>เลขที่สัญญา</th>\n",
       "      <th>ENQ</th>\n",
       "      <th>ชื่อโครงการ</th>\n",
       "      <th>Serial</th>\n",
       "      <th>ProudctType</th>\n",
       "      <th>Brand</th>\n",
       "      <th>Model</th>\n",
       "      <th>แผนจะทำPM</th>\n",
       "      <th>วันสุดท้ายที่ทำPM</th>\n",
       "      <th>งวดPM</th>\n",
       "      <th>หัวหน้าทีม</th>\n",
       "      <th>Planed Engineer</th>\n",
       "      <th>Operation Engineer</th>\n",
       "      <th>ActualDate</th>\n",
       "      <th>Call Number</th>\n",
       "      <th>Doc Engineer</th>\n",
       "      <th>DocumentDate</th>\n",
       "      <th>Doc Number</th>\n",
       "      <th>Remark</th>\n",
       "    </tr>\n",
       "  </thead>\n",
       "  <tbody>\n",
       "    <tr>\n",
       "      <th>0</th>\n",
       "      <td>Bangkok Airways Public Co.,Ltd.</td>\n",
       "      <td>None</td>\n",
       "      <td>ENQ/65-454</td>\n",
       "      <td>MA for Bangkok Airway (SAP HANA MANGO 2023)</td>\n",
       "      <td>FOX1714GD5X</td>\n",
       "      <td>Switch</td>\n",
       "      <td>Cisco</td>\n",
       "      <td>Nexus N5K-C5596UP-FA</td>\n",
       "      <td>Dec 2023</td>\n",
       "      <td>31 Dec 2023</td>\n",
       "      <td>4/4 - Cisco Network</td>\n",
       "      <td>Thitipong   Limudomsuk</td>\n",
       "      <td>Attasit somsuk</td>\n",
       "      <td>None</td>\n",
       "      <td>None</td>\n",
       "      <td>None</td>\n",
       "      <td>None</td>\n",
       "      <td>None</td>\n",
       "      <td>None</td>\n",
       "      <td>None</td>\n",
       "    </tr>\n",
       "    <tr>\n",
       "      <th>1</th>\n",
       "      <td>Bangkok Airways Public Co.,Ltd.</td>\n",
       "      <td>None</td>\n",
       "      <td>ENQ/65-454</td>\n",
       "      <td>MA for Bangkok Airway (SAP HANA MANGO 2023)</td>\n",
       "      <td>FGL172010LM</td>\n",
       "      <td>Hardware</td>\n",
       "      <td>Cisco</td>\n",
       "      <td>CISCO2911/K9</td>\n",
       "      <td>Dec 2023</td>\n",
       "      <td>31 Dec 2023</td>\n",
       "      <td>4/4 - Cisco Network</td>\n",
       "      <td>Thitipong   Limudomsuk</td>\n",
       "      <td>Attasit somsuk</td>\n",
       "      <td>None</td>\n",
       "      <td>None</td>\n",
       "      <td>None</td>\n",
       "      <td>None</td>\n",
       "      <td>None</td>\n",
       "      <td>None</td>\n",
       "      <td>None</td>\n",
       "    </tr>\n",
       "    <tr>\n",
       "      <th>2</th>\n",
       "      <td>Bangkok Airways Public Co.,Ltd.</td>\n",
       "      <td>None</td>\n",
       "      <td>ENQ/65-454</td>\n",
       "      <td>MA for Bangkok Airway (SAP HANA MANGO 2023)</td>\n",
       "      <td>FOX1705H1AW</td>\n",
       "      <td>Switch</td>\n",
       "      <td>Cisco</td>\n",
       "      <td>Nexus N5K-C5596UP-FA</td>\n",
       "      <td>Dec 2023</td>\n",
       "      <td>31 Dec 2023</td>\n",
       "      <td>4/4 - Cisco Network</td>\n",
       "      <td>Thitipong   Limudomsuk</td>\n",
       "      <td>Attasit somsuk</td>\n",
       "      <td>None</td>\n",
       "      <td>None</td>\n",
       "      <td>None</td>\n",
       "      <td>None</td>\n",
       "      <td>None</td>\n",
       "      <td>None</td>\n",
       "      <td>None</td>\n",
       "    </tr>\n",
       "    <tr>\n",
       "      <th>3</th>\n",
       "      <td>Bangkok Airways Public Co.,Ltd.</td>\n",
       "      <td>None</td>\n",
       "      <td>ENQ/65-454</td>\n",
       "      <td>MA for Bangkok Airway (SAP HANA MANGO 2023)</td>\n",
       "      <td>SSI170505SF</td>\n",
       "      <td>Switch</td>\n",
       "      <td>Cisco</td>\n",
       "      <td>CON-OSP-2232PFA</td>\n",
       "      <td>Dec 2023</td>\n",
       "      <td>31 Dec 2023</td>\n",
       "      <td>4/4 - Cisco Network</td>\n",
       "      <td>Thitipong   Limudomsuk</td>\n",
       "      <td>Attasit somsuk</td>\n",
       "      <td>None</td>\n",
       "      <td>None</td>\n",
       "      <td>None</td>\n",
       "      <td>None</td>\n",
       "      <td>None</td>\n",
       "      <td>None</td>\n",
       "      <td>None</td>\n",
       "    </tr>\n",
       "    <tr>\n",
       "      <th>4</th>\n",
       "      <td>Bangkok Airways Public Co.,Ltd.</td>\n",
       "      <td>None</td>\n",
       "      <td>ENQ/65-454</td>\n",
       "      <td>MA for Bangkok Airway (SAP HANA MANGO 2023)</td>\n",
       "      <td>SSI170804RK</td>\n",
       "      <td>Switch</td>\n",
       "      <td>Cisco</td>\n",
       "      <td>CON-OSP-2232PFA</td>\n",
       "      <td>Dec 2023</td>\n",
       "      <td>31 Dec 2023</td>\n",
       "      <td>4/4 - Cisco Network</td>\n",
       "      <td>Thitipong   Limudomsuk</td>\n",
       "      <td>Attasit somsuk</td>\n",
       "      <td>None</td>\n",
       "      <td>None</td>\n",
       "      <td>None</td>\n",
       "      <td>None</td>\n",
       "      <td>None</td>\n",
       "      <td>None</td>\n",
       "      <td>None</td>\n",
       "    </tr>\n",
       "  </tbody>\n",
       "</table>\n",
       "</div>"
      ],
      "text/plain": [
       "                        ชื่อลูกค้า เลขที่สัญญา         ENQ  \\\n",
       "0  Bangkok Airways Public Co.,Ltd.        None  ENQ/65-454   \n",
       "1  Bangkok Airways Public Co.,Ltd.        None  ENQ/65-454   \n",
       "2  Bangkok Airways Public Co.,Ltd.        None  ENQ/65-454   \n",
       "3  Bangkok Airways Public Co.,Ltd.        None  ENQ/65-454   \n",
       "4  Bangkok Airways Public Co.,Ltd.        None  ENQ/65-454   \n",
       "\n",
       "                                   ชื่อโครงการ       Serial ProudctType  \\\n",
       "0  MA for Bangkok Airway (SAP HANA MANGO 2023)  FOX1714GD5X      Switch   \n",
       "1  MA for Bangkok Airway (SAP HANA MANGO 2023)  FGL172010LM    Hardware   \n",
       "2  MA for Bangkok Airway (SAP HANA MANGO 2023)  FOX1705H1AW      Switch   \n",
       "3  MA for Bangkok Airway (SAP HANA MANGO 2023)  SSI170505SF      Switch   \n",
       "4  MA for Bangkok Airway (SAP HANA MANGO 2023)  SSI170804RK      Switch   \n",
       "\n",
       "   Brand                 Model แผนจะทำPM วันสุดท้ายที่ทำPM  \\\n",
       "0  Cisco  Nexus N5K-C5596UP-FA  Dec 2023       31 Dec 2023   \n",
       "1  Cisco          CISCO2911/K9  Dec 2023       31 Dec 2023   \n",
       "2  Cisco  Nexus N5K-C5596UP-FA  Dec 2023       31 Dec 2023   \n",
       "3  Cisco       CON-OSP-2232PFA  Dec 2023       31 Dec 2023   \n",
       "4  Cisco       CON-OSP-2232PFA  Dec 2023       31 Dec 2023   \n",
       "\n",
       "                 งวดPM              หัวหน้าทีม Planed Engineer  \\\n",
       "0  4/4 - Cisco Network  Thitipong   Limudomsuk  Attasit somsuk   \n",
       "1  4/4 - Cisco Network  Thitipong   Limudomsuk  Attasit somsuk   \n",
       "2  4/4 - Cisco Network  Thitipong   Limudomsuk  Attasit somsuk   \n",
       "3  4/4 - Cisco Network  Thitipong   Limudomsuk  Attasit somsuk   \n",
       "4  4/4 - Cisco Network  Thitipong   Limudomsuk  Attasit somsuk   \n",
       "\n",
       "  Operation Engineer ActualDate Call Number Doc Engineer DocumentDate  \\\n",
       "0               None       None        None         None         None   \n",
       "1               None       None        None         None         None   \n",
       "2               None       None        None         None         None   \n",
       "3               None       None        None         None         None   \n",
       "4               None       None        None         None         None   \n",
       "\n",
       "  Doc Number Remark  \n",
       "0       None   None  \n",
       "1       None   None  \n",
       "2       None   None  \n",
       "3       None   None  \n",
       "4       None   None  "
      ]
     },
     "execution_count": 130,
     "metadata": {},
     "output_type": "execute_result"
    }
   ],
   "source": [
    "dfItem=list_data(sql_item,None,get_postgres_conn())\n",
    "dfItem.info()\n",
    "dfItem.head()"
   ]
  },
  {
   "cell_type": "markdown",
   "metadata": {},
   "source": [
    "# Excel file"
   ]
  },
  {
   "cell_type": "code",
   "execution_count": 132,
   "metadata": {},
   "outputs": [],
   "source": [
    "with pd.ExcelWriter(file_name) as writer:\n",
    "    dfPM.to_excel(writer, sheet_name=\"PM-Plan\",index=False)\n",
    "    dfItem.to_excel(writer, sheet_name=\"PM-Item\",index=False)"
   ]
  },
  {
   "cell_type": "markdown",
   "metadata": {},
   "source": [
    "# Email Office 365"
   ]
  },
  {
   "cell_type": "code",
   "execution_count": 103,
   "metadata": {},
   "outputs": [],
   "source": []
  },
  {
   "cell_type": "code",
   "execution_count": null,
   "metadata": {},
   "outputs": [],
   "source": []
  },
  {
   "cell_type": "code",
   "execution_count": null,
   "metadata": {},
   "outputs": [],
   "source": [
    "# Delete attach files"
   ]
  },
  {
   "cell_type": "code",
   "execution_count": null,
   "metadata": {},
   "outputs": [],
   "source": [
    "os.remove(file_name)"
   ]
  }
 ],
 "metadata": {
  "kernelspec": {
   "display_name": "Python 3 (ipykernel)",
   "language": "python",
   "name": "python3"
  },
  "language_info": {
   "codemirror_mode": {
    "name": "ipython",
    "version": 3
   },
   "file_extension": ".py",
   "mimetype": "text/x-python",
   "name": "python",
   "nbconvert_exporter": "python",
   "pygments_lexer": "ipython3",
   "version": "3.9.12"
  }
 },
 "nbformat": 4,
 "nbformat_minor": 4
}
