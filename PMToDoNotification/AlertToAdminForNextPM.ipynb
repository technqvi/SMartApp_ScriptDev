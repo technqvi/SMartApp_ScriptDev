{
 "cells": [
  {
   "cell_type": "code",
   "execution_count": 82,
   "metadata": {
    "collapsed": false,
    "jupyter": {
     "outputs_hidden": false
    },
    "pycharm": {
     "name": "#%%\n"
    }
   },
   "outputs": [],
   "source": [
    "import psycopg2\n",
    "import psycopg2.extras as extras\n",
    "\n",
    "import pandas as pd\n",
    "from dotenv import dotenv_values"
   ]
  },
  {
   "cell_type": "markdown",
   "metadata": {},
   "source": [
    "# Get the next month \n",
    "* Set Window Sheduler to monthly run at the last day of The month\n",
    "* No matter what day you run this job , the program will  get PMs of the  next month"
   ]
  },
  {
   "cell_type": "code",
   "execution_count": 83,
   "metadata": {},
   "outputs": [
    {
     "name": "stdout",
     "output_type": "stream",
     "text": [
      "2023-11-28 00:00:00\n",
      "2023-12-01 00:00:00\n",
      "2024-01-01 00:00:00\n"
     ]
    }
   ],
   "source": [
    "from datetime import datetime,date\n",
    "from dateutil import relativedelta\n",
    "\n",
    "#dt = datetime.strptime(datetime(2023,12,4,10,0).strftime('%Y-%m-%d'),'%Y-%m-%d')\n",
    "dt = datetime.strptime(datetime.now().strftime('%Y-%m-%d'),'%Y-%m-%d')\n",
    "print(dt)\n",
    "\n",
    "first_day_next_month = dt + relativedelta.relativedelta(months=1, day=1)\n",
    "first_day_2next_month = dt + relativedelta.relativedelta(months=2, day=1)\n",
    "print(first_day_next_month )   \n",
    "print(first_day_2next_month ) \n"
   ]
  },
  {
   "cell_type": "code",
   "execution_count": 84,
   "metadata": {
    "collapsed": false,
    "jupyter": {
     "outputs_hidden": false
    },
    "pycharm": {
     "name": "#%%\n"
    }
   },
   "outputs": [],
   "source": [
    "env_path=r'D:\\PythonDev\\Yit\\SMartApp_ScriptDev\\.env'\n",
    "config = dotenv_values(dotenv_path=env_path)"
   ]
  },
  {
   "cell_type": "code",
   "execution_count": 85,
   "metadata": {},
   "outputs": [],
   "source": [
    "def get_postgres_conn():\n",
    " try:\n",
    "  conn = psycopg2.connect(\n",
    "        database=config['DATABASES_NAME'], user=config['DATABASES_USER'],\n",
    "      password=config['DATABASES_PASSWORD'], host=config['DATABASES_HOST']\n",
    "     )\n",
    "  return conn\n",
    "\n",
    " except Exception as error:\n",
    "  print(error)      \n",
    "  raise error\n",
    "def list_data(sql,params,connection):\n",
    " df=None   \n",
    " with connection.cursor() as cursor:\n",
    "    \n",
    "    if params is None:\n",
    "       cursor.execute(sql)\n",
    "    else:\n",
    "       cursor.execute(sql,params)\n",
    "    \n",
    "    columns = [col[0] for col in cursor.description]\n",
    "    dataList = [dict(zip(columns, row)) for row in cursor.fetchall()]\n",
    "    df = pd.DataFrame(data=dataList) \n",
    " return df "
   ]
  },
  {
   "cell_type": "code",
   "execution_count": 86,
   "metadata": {},
   "outputs": [
    {
     "name": "stdout",
     "output_type": "stream",
     "text": [
      "\n",
      "    select ac.company_full_name as \"ชื่อลูกค้า\",\n",
      "    ap.contract_no as \"เลขที่สัญญา\",ap.enq_id as \"ENQ\" ,\n",
      "    ap.project_name as \"ชื่อโครงการ\",\n",
      "    TO_CHAR(pm.planned_date,'Mon YYYY') as \"แผนจะทำPM\",\n",
      "    TO_CHAR(pm.ended_pm_date,'DD Mon YYYY') as \"วันสุดท้ายที่ทำPM\",\n",
      "    pm.remark as  \"งวดPM\",\n",
      "    ae.employee_name as \"หัวหน้าทีม\",\n",
      "    (select emp.employee_name emp from app_employee emp where emp.id=pm.engineer_id ) as \"Engineer\"\n",
      "     ,ac.is_managed_by_admin \n",
      "    from app_preventivemaintenance pm\n",
      "    left join app_project ap on ap.id = pm.project_id\n",
      "    left join app_company ac on ac.id = ap.company_id\n",
      "    left join app_employee ae on ae.id =pm.team_lead_id\n",
      "    where  pm.planned_date>='2023-12-01 00:00:00' and pm.planned_date<'2024-01-01 00:00:00'\n",
      "    order by  ac.company_full_name,ap.enq_id,pm.remark\n",
      "    \n"
     ]
    }
   ],
   "source": [
    "# https://github.com/technqvi/SMartApp/blob/main/app/pm_doc_manager/pm_export.py\n",
    "\n",
    "sql_pm=f\"\"\"\n",
    "    select ac.company_full_name as \"ชื่อลูกค้า\",\n",
    "    ap.contract_no as \"เลขที่สัญญา\",ap.enq_id as \"ENQ\" ,\n",
    "    ap.project_name as \"ชื่อโครงการ\",\n",
    "    TO_CHAR(pm.planned_date,'Mon YYYY') as \"แผนจะทำPM\",\n",
    "    TO_CHAR(pm.ended_pm_date,'DD Mon YYYY') as \"วันสุดท้ายที่ทำPM\",\n",
    "    pm.remark as  \"งวดPM\",\n",
    "    ae.employee_name as \"หัวหน้าทีม\",\n",
    "    (select emp.employee_name emp from app_employee emp where emp.id=pm.engineer_id ) as \"Engineer\"\n",
    "     ,ac.is_managed_by_admin \n",
    "    from app_preventivemaintenance pm\n",
    "    left join app_project ap on ap.id = pm.project_id\n",
    "    left join app_company ac on ac.id = ap.company_id\n",
    "    left join app_employee ae on ae.id =pm.team_lead_id\n",
    "    where  pm.planned_date>='{first_day_next_month}' and pm.planned_date<'{first_day_2next_month}'\n",
    "    order by  ac.company_full_name,ap.enq_id,pm.remark\n",
    "    \"\"\"\n",
    "print(sql_pm)"
   ]
  },
  {
   "cell_type": "code",
   "execution_count": 87,
   "metadata": {},
   "outputs": [
    {
     "name": "stdout",
     "output_type": "stream",
     "text": [
      "<class 'pandas.core.frame.DataFrame'>\n",
      "RangeIndex: 181 entries, 0 to 180\n",
      "Data columns (total 10 columns):\n",
      " #   Column               Non-Null Count  Dtype \n",
      "---  ------               --------------  ----- \n",
      " 0   ชื่อลูกค้า           181 non-null    object\n",
      " 1   เลขที่สัญญา          3 non-null      object\n",
      " 2   ENQ                  181 non-null    object\n",
      " 3   ชื่อโครงการ          181 non-null    object\n",
      " 4   แผนจะทำPM            181 non-null    object\n",
      " 5   วันสุดท้ายที่ทำPM    181 non-null    object\n",
      " 6   งวดPM                181 non-null    object\n",
      " 7   หัวหน้าทีม           181 non-null    object\n",
      " 8   Engineer             166 non-null    object\n",
      " 9   is_managed_by_admin  181 non-null    bool  \n",
      "dtypes: bool(1), object(9)\n",
      "memory usage: 13.0+ KB\n"
     ]
    }
   ],
   "source": [
    "dfPM_All=list_data(sql_pm,None,get_postgres_conn())\n",
    "dfPM_All.info()\n",
    "\n",
    "dfPM_SM=dfPM_All.query(\"is_managed_by_admin==False\")\n",
    "dfPM_SM=dfPM_SM.drop(columns=['is_managed_by_admin'])\n",
    "\n",
    "dfPM_NoneSM=dfPM_All.query(\"is_managed_by_admin==True\")\n",
    "dfPM_NoneSM=dfPM_NoneSM.drop(columns=['is_managed_by_admin'])\n",
    "\n",
    "dfPM_All=None"
   ]
  },
  {
   "cell_type": "code",
   "execution_count": 88,
   "metadata": {},
   "outputs": [
    {
     "name": "stdout",
     "output_type": "stream",
     "text": [
      "<class 'pandas.core.frame.DataFrame'>\n",
      "Int64Index: 114 entries, 2 to 180\n",
      "Data columns (total 9 columns):\n",
      " #   Column             Non-Null Count  Dtype \n",
      "---  ------             --------------  ----- \n",
      " 0   ชื่อลูกค้า         114 non-null    object\n",
      " 1   เลขที่สัญญา        0 non-null      object\n",
      " 2   ENQ                114 non-null    object\n",
      " 3   ชื่อโครงการ        114 non-null    object\n",
      " 4   แผนจะทำPM          114 non-null    object\n",
      " 5   วันสุดท้ายที่ทำPM  114 non-null    object\n",
      " 6   งวดPM              114 non-null    object\n",
      " 7   หัวหน้าทีม         114 non-null    object\n",
      " 8   Engineer           99 non-null     object\n",
      "dtypes: object(9)\n",
      "memory usage: 8.9+ KB\n"
     ]
    }
   ],
   "source": [
    "dfPM_SM.info()"
   ]
  },
  {
   "cell_type": "code",
   "execution_count": 89,
   "metadata": {},
   "outputs": [
    {
     "name": "stdout",
     "output_type": "stream",
     "text": [
      "<class 'pandas.core.frame.DataFrame'>\n",
      "Int64Index: 67 entries, 0 to 176\n",
      "Data columns (total 9 columns):\n",
      " #   Column             Non-Null Count  Dtype \n",
      "---  ------             --------------  ----- \n",
      " 0   ชื่อลูกค้า         67 non-null     object\n",
      " 1   เลขที่สัญญา        3 non-null      object\n",
      " 2   ENQ                67 non-null     object\n",
      " 3   ชื่อโครงการ        67 non-null     object\n",
      " 4   แผนจะทำPM          67 non-null     object\n",
      " 5   วันสุดท้ายที่ทำPM  67 non-null     object\n",
      " 6   งวดPM              67 non-null     object\n",
      " 7   หัวหน้าทีม         67 non-null     object\n",
      " 8   Engineer           67 non-null     object\n",
      "dtypes: object(9)\n",
      "memory usage: 5.2+ KB\n"
     ]
    }
   ],
   "source": [
    "dfPM_NoneSM.info()"
   ]
  },
  {
   "cell_type": "code",
   "execution_count": null,
   "metadata": {},
   "outputs": [],
   "source": []
  },
  {
   "cell_type": "code",
   "execution_count": null,
   "metadata": {},
   "outputs": [],
   "source": []
  }
 ],
 "metadata": {
  "kernelspec": {
   "display_name": "Python 3 (ipykernel)",
   "language": "python",
   "name": "python3"
  },
  "language_info": {
   "codemirror_mode": {
    "name": "ipython",
    "version": 3
   },
   "file_extension": ".py",
   "mimetype": "text/x-python",
   "name": "python",
   "nbconvert_exporter": "python",
   "pygments_lexer": "ipython3",
   "version": "3.9.16"
  }
 },
 "nbformat": 4,
 "nbformat_minor": 4
}
