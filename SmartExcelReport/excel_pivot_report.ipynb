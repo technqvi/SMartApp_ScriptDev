{
 "cells": [
  {
   "cell_type": "code",
   "execution_count": null,
   "id": "c250052e-6453-4f81-8073-74174ce167f6",
   "metadata": {},
   "outputs": [],
   "source": [
    "import pandas as pd\n",
    "import numpy as np\n",
    "import datetime as datetime\n",
    "from django.db import connection"
   ]
  },
  {
   "cell_type": "code",
   "execution_count": null,
   "id": "21b621c2-44af-4c65-a6d1-7bfc64650870",
   "metadata": {},
   "outputs": [],
   "source": [
    "#def build_pivot_report(df):"
   ]
  },
  {
   "cell_type": "code",
   "execution_count": null,
   "id": "94178f05-89a7-405c-9515-3e16fe40ccb4",
   "metadata": {},
   "outputs": [],
   "source": [
    "is_production=False"
   ]
  },
  {
   "cell_type": "code",
   "execution_count": null,
   "id": "9cf756ec-2d22-4233-9339-be2aabd233f9",
   "metadata": {},
   "outputs": [],
   "source": [
    "# get from get_table_report\n",
    "df=pd.read_excel('df_all.xlsx')\n",
    "df.info()"
   ]
  },
  {
   "cell_type": "code",
   "execution_count": null,
   "id": "ffb53db0-c23f-4d55-9f0e-4818973bc778",
   "metadata": {},
   "outputs": [],
   "source": [
    "def create_x_pivot(df_source,selected_cols,pv_indexes,pv_columns):\n",
    "    dfx=df_source[selected_cols]\n",
    "    dfx=dfx.rename(columns={'id':'item'})\n",
    "    # dfx=dfx.sample(20)\n",
    "    # dfx.to_excel(\"dfx.xlsx\",index=False)\n",
    "\n",
    "    print(dfx.head())\n",
    "\n",
    "    xpivot=pd.pivot_table(dfx,index=pv_indexes\n",
    "               ,columns=pv_columns,values=[\"item\"],aggfunc='count',fill_value=0,margins=True)\n",
    "    return xpivot"
   ]
  },
  {
   "cell_type": "code",
   "execution_count": null,
   "id": "a84edd29-4769-4df5-937b-d95e8ac0dcad",
   "metadata": {},
   "outputs": [],
   "source": [
    "# test query  pivot inout_status\n",
    "# ptype_pm='Software'\n",
    "# brand_pm='VMWare'\n",
    "# status_pm='Closed'\n",
    "# sla_pm='in'\n",
    "# print(len(df.query('productype_name==@ptype_pm and  brand_name==@brand_pm and status==@status_pm')))\n",
    "# print(len(df.query('productype_name==@ptype_pm and  brand_name==@brand_pm and status==@status_pm and sla==@sla_pm')))"
   ]
  },
  {
   "cell_type": "code",
   "execution_count": null,
   "id": "b07dd475-6caf-4a72-9550-0a61af72760e",
   "metadata": {},
   "outputs": [],
   "source": [
    "pv_sla_status=create_x_pivot(df,[\"id\",\"productype_name\",\"brand_name\",\"status\",\"sla\"],\n",
    "                      [\"productype_name\",\"brand_name\",\"status\"],\n",
    "                      [\"sla\"])\n",
    "\n",
    "\n",
    "\n",
    "pv_sla_status"
   ]
  },
  {
   "cell_type": "code",
   "execution_count": null,
   "id": "5f7242f2-71dd-4188-9408-db3bcb4d5777",
   "metadata": {},
   "outputs": [],
   "source": [
    "# test query  pivot inout_status\n",
    "# ptype_pm='Server'\n",
    "# brand_pm='DELL'\n",
    "# status_pm='Closed'\n",
    "# sla_pm='in'\n",
    "# severity_pm='Minor'\n",
    "# period_pm='Mar 2022'\n",
    "# str_qry='productype_name==@ptype_pm and  brand_name==@brand_pm and status==@status_pm and  severity_name==@severity_pm  and month_year==@period_pm'\n",
    "# df_qry=df.query(str_qry)\n",
    "# print(len(df_qry))\n"
   ]
  },
  {
   "cell_type": "code",
   "execution_count": null,
   "id": "bd1643e5-12b0-4722-a8ae-48ec75f5640b",
   "metadata": {},
   "outputs": [],
   "source": [
    "\n",
    "pv_sla_period=create_x_pivot(df,[\"id\",\"productype_name\",\"brand_name\",\"status\",\"sla\",\"severity_name\",\"month_year\"],\n",
    "                      [\"productype_name\",\"brand_name\",\"status\"],[\"month_year\",\"severity_name\",\"sla\"])\n",
    "\n",
    "pv_sla_period"
   ]
  },
  {
   "cell_type": "code",
   "execution_count": null,
   "id": "1b5d356a-6cf7-48df-862f-805d9a48bc00",
   "metadata": {},
   "outputs": [],
   "source": [
    "# for item in pv_sla_period.columns:\n",
    "#    print( type(item))\n",
    "#     dmy=datetime.datetime.strptime(month_year_1,'%m-%Y')\n",
    "# dmy_xxx=dmy.strftime('%b-%Y')\n",
    "# dmy_xxx     "
   ]
  },
  {
   "cell_type": "code",
   "execution_count": null,
   "id": "9188b407-cad1-4829-b726-419be9cab220",
   "metadata": {},
   "outputs": [],
   "source": []
  },
  {
   "cell_type": "code",
   "execution_count": null,
   "id": "68eaa77d-2beb-4cbc-a229-cb74234d5d91",
   "metadata": {},
   "outputs": [],
   "source": [
    "pv_type=create_x_pivot(df,[\"id\",\"productype_name\",\"incident_type_name\",\"month_year\"],\n",
    "                      [\"productype_name\",\"incident_type_name\"],[\"month_year\"])\n",
    "\n",
    "pv_type\n"
   ]
  },
  {
   "cell_type": "code",
   "execution_count": null,
   "id": "eb837449-e83c-408f-b168-f504ebdac0e1",
   "metadata": {},
   "outputs": [],
   "source": [
    "#df_trasns.to_excel(tran2s_path2,index=False)\n",
    "\n",
    "if is_production==False:\n",
    "    writer=pd.ExcelWriter(\"AIS-Pivot-Report.xlsx\",engine='xlsxwriter')\n",
    "    pv_sla_status.to_excel(writer, sheet_name=\"Pivot1\")\n",
    "    pv_sla_period.to_excel(writer, sheet_name=\"Pivot2\")\n",
    "    pv_type.to_excel(writer, sheet_name=\"Pivot3\")\n",
    "    writer.save()\n",
    "    return None\n",
    "else:\n",
    "    print(\"Production result\")\n",
    "    dfPivotReportDict={  \\\n",
    "        \"Pivot1\": pv_sla_status, \\\n",
    "        \"Pivot2\": pv_sla_period, \\\n",
    "        \"Pivot3\":pv_type, \\\n",
    "\n",
    "\n",
    "    }\n",
    "    #return  dfPivotReportDict\n",
    "    "
   ]
  },
  {
   "cell_type": "code",
   "execution_count": null,
   "id": "6d064f72-23eb-4387-a45e-7fd3acf53686",
   "metadata": {},
   "outputs": [],
   "source": []
  },
  {
   "cell_type": "code",
   "execution_count": null,
   "id": "223b4eda-2a70-48b4-942a-aae6daf1eb26",
   "metadata": {},
   "outputs": [],
   "source": []
  },
  {
   "cell_type": "code",
   "execution_count": null,
   "id": "21393bc4-ce86-4677-ac11-40b727d82a8e",
   "metadata": {},
   "outputs": [],
   "source": []
  },
  {
   "cell_type": "code",
   "execution_count": null,
   "id": "cd38fd12-94ab-4de1-af30-05b6fb1d5acd",
   "metadata": {},
   "outputs": [],
   "source": []
  }
 ],
 "metadata": {
  "kernelspec": {
   "display_name": "Python 3 (ipykernel)",
   "language": "python",
   "name": "python3"
  },
  "language_info": {
   "codemirror_mode": {
    "name": "ipython",
    "version": 3
   },
   "file_extension": ".py",
   "mimetype": "text/x-python",
   "name": "python",
   "nbconvert_exporter": "python",
   "pygments_lexer": "ipython3",
   "version": "3.9.7"
  }
 },
 "nbformat": 4,
 "nbformat_minor": 5
}
