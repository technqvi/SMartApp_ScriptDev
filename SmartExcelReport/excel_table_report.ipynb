{
 "cells": [
  {
   "cell_type": "code",
   "execution_count": null,
   "id": "be67b851-20fc-4423-8940-019b2b0723b6",
   "metadata": {},
   "outputs": [],
   "source": [
    "import psycopg2\n",
    "import psycopg2.extras as extras\n",
    "import pandas as pd\n",
    "import numpy as np\n",
    "import json\n",
    "from datetime import datetime,date\n",
    "import re\n",
    "from django.db import connection"
   ]
  },
  {
   "cell_type": "code",
   "execution_count": null,
   "id": "274df5de-34e4-4d26-b074-557e1e7d8a70",
   "metadata": {},
   "outputs": [],
   "source": [
    "\n",
    "#def build_table_report(company_id_quer,start_date_query,end_date_query):"
   ]
  },
  {
   "cell_type": "code",
   "execution_count": null,
   "id": "bc3b22ea-0300-4c5f-ae9c-a4db4ba0e027",
   "metadata": {},
   "outputs": [],
   "source": [
    "company_id_query=2\n",
    "start_date_query='2022-01-01'\n",
    "end_date_query='2022-12-31'"
   ]
  },
  {
   "cell_type": "code",
   "execution_count": null,
   "id": "d5657854-e741-4362-b203-5b966eb6eea9",
   "metadata": {},
   "outputs": [],
   "source": [
    "# remove it in production\n",
    "# just for test\n",
    "def get_postgres_conn():\n",
    " try:\n",
    "  conn = psycopg2.connect(\n",
    "         database='SMartDB', user='postgres',\n",
    "      password='P@ssw0rd', host='localhost', \n",
    "     )\n",
    "  return conn\n",
    "\n",
    " except Exception as error:\n",
    "  print(error)      \n",
    "  raise error\n",
    "\n",
    "    \n",
    "# for django\n",
    "# def get_postgres_conn():\n",
    "#   return connection\n",
    " "
   ]
  },
  {
   "cell_type": "code",
   "execution_count": null,
   "id": "2691e9dc-b512-42db-a562-23f6a3a22924",
   "metadata": {},
   "outputs": [],
   "source": [
    "_ILLEGAL_CHARACTERS_RE = re.compile(r\"[\\000-\\010]|[\\013-\\014]|[\\016-\\037]\")\n",
    "\n",
    "is_production=True"
   ]
  },
  {
   "cell_type": "code",
   "execution_count": null,
   "id": "60cd9b95-ed79-4d23-9ee1-0733ef744959",
   "metadata": {},
   "outputs": [],
   "source": [
    "today_x=datetime.now()\n",
    "\n",
    "datetime_cols=['open_datetime','response_datetime','resolved_datetime','close_datetime']\n",
    "#date_cols=['install_date','eos_date','customer_warranty_start','customer_warranty_end']\n",
    "date_cols=['install_date']"
   ]
  },
  {
   "cell_type": "code",
   "execution_count": null,
   "id": "423d4d50-1524-439f-b6cb-d12d4ceb769c",
   "metadata": {},
   "outputs": [],
   "source": [
    "# sheet=All Issue\n",
    "print(\"All Display columns in All Issues\")\n",
    "All_Issue_Cols=[\n",
    "[\"case_id\",\"Case ID\"], [\"productype_name\",\"Type\"],[\"brand_name\",\"Brand\"], [\"model_name\",\"Model\"] ,[\"serial_number\",\"Serial\"]\n",
    ",[\"severity_name\",\"Severity\"],[\"datacenter_name\",\"Site\"],[\"incident_subject\",\"Problem Summary\"]\n",
    ",[\"open_datetime\",\"Issue Date\"],['response_datetime','Respond Date']\n",
    ",['resolved_datetime','Resolved Date'],['close_datetime','Close Date']\n",
    ",['summary_work_around_str','Summary WorkAround Time'] ,['incident_customer_support','Case Owner']\n",
    ",['detail','Resolution Description'],['customer_support','MA Owner']\n",
    ",['service_type_name','Service Type']\n",
    ",['is_update_sw','Update Software']\n",
    "]\n",
    "dfAll_Issue_Cols=pd.DataFrame(data=All_Issue_Cols,columns=['name','display_name'])\n",
    "dictAll_Issue=dict(zip(dfAll_Issue_Cols['name'].tolist(),dfAll_Issue_Cols['display_name'].tolist()))\n",
    "dictAll_Issue\n",
    "\n"
   ]
  },
  {
   "cell_type": "code",
   "execution_count": null,
   "id": "d02e9591-acb8-4832-9334-793e6e987643",
   "metadata": {},
   "outputs": [],
   "source": [
    "# sheet=Incident Issue\n",
    "print(\"All Display columns in Incident\")\n",
    "Incident_Issue_Cols=All_Issue_Cols.copy()\n",
    "Incident_Issue_Cols.extend([ ['sla','SLA In/Out'],['aging_year','Aging(Year)'], \\\n",
    "['failure_type','HW or SW Failure type'],['install_date','Product start']] )\n",
    "Incident_Issue_Cols = [x for x in Incident_Issue_Cols if x  not in [['service_type_name','Service Type']] ]\n",
    "#Incident_Issue_Cols\n",
    "\n",
    "Incident_Issue_Cols.insert(0,['running_number','No.'])\n",
    "\n",
    "\n",
    "dfIncident_Issue_Cols=pd.DataFrame(data=Incident_Issue_Cols,columns=['name','display_name'])\n",
    "dictIncident=dict(zip(dfIncident_Issue_Cols['name'].tolist(),dfIncident_Issue_Cols['display_name'].tolist()))\n",
    "dictIncident"
   ]
  },
  {
   "cell_type": "code",
   "execution_count": null,
   "id": "9ceb2c6f-aeb7-4867-b62c-8e8d769b9af4",
   "metadata": {},
   "outputs": [],
   "source": [
    "# sheet=Request Issue\n",
    "print(\"All Display columns in Request to Preventive Maintainance\")\n",
    "Include_ServiceCols=[['no.eng','No. Eng'] ]\n",
    "\n",
    "Exclude_ServiceCols=[[\"case_id\",\"Case ID\"],[\"serial_number\",\"Serial\"],[\"severity_name\",\"Severity\"]\n",
    ",[\"incident_subject\",\"Problem Summary\"],['incident_customer_support','Case Owner']\n",
    ",['service_type_name', 'Service Type'],['summary_work_around_str','Summary WorkAround Time']\n",
    ",['customer_support','MA Owner'],[\"productype_name\",\"Type\"] ]\n",
    "Service_Issue_Cols=All_Issue_Cols.copy()\n",
    "Service_Issue_Cols= [x for x in Service_Issue_Cols if x  not in Exclude_ServiceCols ]\n",
    "\n",
    "Service_Issue_Cols.extend(Include_ServiceCols )\n",
    "\n",
    "Service_Issue_Cols.insert(0,['running_number','No.'])\n",
    "Service_Issue_Cols.insert(1,['service_type_name','Type'])\n",
    "Service_Issue_Cols.insert(2,['productype_name','Equipment Type'])\n",
    "Service_Issue_Cols.insert(6,[\"incident_subject\",\"Task Description\"])\n",
    "Service_Issue_Cols.insert(11,['summary_work_around_str','Summary WorkAround Time'])\n",
    "Service_Issue_Cols.insert(12,['incident_customer_support','Requestor'])\n",
    "\n",
    "#Service_Issue_Cols.insert(len(Service_Issue_Cols)-1,['is_update_sw', 'Update Software'])\n",
    "#Service_Issue_Cols\n",
    "dfService_Issue_Cols=pd.DataFrame(data=Service_Issue_Cols,columns=['name','display_name'])\n",
    "dictService=dict(zip(dfService_Issue_Cols['name'].tolist(),dfService_Issue_Cols['display_name'].tolist()))\n",
    "dictService"
   ]
  },
  {
   "cell_type": "code",
   "execution_count": null,
   "id": "675704d3-636e-4293-a532-552a80a0a4f5",
   "metadata": {},
   "outputs": [],
   "source": [
    "print(\"All Display columns in Out-SLA\")\n",
    "\n",
    "OutSLA_Issue_Cols=[['running_number','No.'], [\"vender\",\"Vender\"],['case_id', 'Case ID']\n",
    " ,[\"productype_name\",\"Type\"],[\"brand_name\",\"Brand\"],[\"model_name\",\"Model\"]  \n",
    ",['severity_name', 'Severity'],['summary_work_around_str', 'Summary WorkAround Time']\n",
    " ,['problem','Problem'],['cause','Cause']\n",
    " ,['effect','Effect'],['solution','Solution'],['preventive_guideline','Preventive Guideline']]\n",
    "dfOutSLA_Cols=pd.DataFrame(data=OutSLA_Issue_Cols,columns=['name','display_name'])\n",
    "dictOutSLA=dict(zip(dfOutSLA_Cols['name'].tolist(),dfOutSLA_Cols['display_name'].tolist()))\n",
    "dictOutSLA"
   ]
  },
  {
   "cell_type": "code",
   "execution_count": null,
   "id": "9543caa9-b14d-425b-b084-6b35d14fc35b",
   "metadata": {},
   "outputs": [],
   "source": []
  },
  {
   "cell_type": "code",
   "execution_count": null,
   "id": "a98aec4f-7c9b-4e8a-b101-2ca55871856b",
   "metadata": {},
   "outputs": [],
   "source": [
    "def list_data(sql,params,connection):\n",
    " df=None   \n",
    " with connection.cursor() as cursor:\n",
    "    \n",
    "    if params is None:\n",
    "       cursor.execute(sql)\n",
    "    else:\n",
    "       cursor.execute(sql,params) \n",
    "    \n",
    "#     print(sql)\n",
    "#     print(params)\n",
    "    \n",
    "    columns = [col[0] for col in cursor.description]\n",
    "    dataList = [dict(zip(columns, row)) for row in cursor.fetchall()]\n",
    "    df = pd.DataFrame(data=dataList) \n",
    " return df "
   ]
  },
  {
   "cell_type": "code",
   "execution_count": null,
   "id": "4be6a2a5-7933-4ca3-916b-6d1b69d3470c",
   "metadata": {},
   "outputs": [],
   "source": [
    "sql_all=\"\"\"\n",
    "\n",
    "select  incident.id, incident.incident_no, product_type.productype_name,brand.brand_name,model.model_name\n",
    ",incident.incident_severity_id,severity.severity_name,incident.incident_type_id,xtype.incident_type_name\n",
    ",incident.incident_status_id,status.incident_status_name,incident.service_type_id,service.service_type_name\n",
    ",incident.incident_customer_support\n",
    "\n",
    ",inventory.serial_number,datacenter.datacenter_name\n",
    ",incident.incident_subject,incident_description\n",
    "\n",
    ",TO_CHAR(incident.incident_datetime  AT TIME ZONE 'Asia/Bangkok','DD Mon YYYY HH24:MI') as open_datetime\n",
    ",TO_CHAR(incident.incident_close_datetime  AT TIME ZONE 'Asia/Bangkok','DD Mon YYYY HH24:MI') as close_datetime\n",
    "\n",
    ",TO_CHAR(incident.incident_problem_start  AT TIME ZONE 'Asia/Bangkok','DD Mon YYYY HH24:MI') as response_datetime\n",
    ",TO_CHAR(incident.incident_problem_end  AT TIME ZONE 'Asia/Bangkok','DD Mon YYYY HH24:MI') as resolved_datetime\n",
    "\n",
    "\n",
    "\n",
    ",TO_CHAR(inventory.install_date  AT TIME ZONE 'Asia/Bangkok','DD Mon YYYY HH24:MI') as install_date\n",
    ",TO_CHAR(inventory.eos_date  AT TIME ZONE 'Asia/Bangkok','DD Mon YYYY HH24:MI') as eos_date\n",
    "\n",
    ",TO_CHAR(inventory.customer_warranty_start  AT TIME ZONE 'Asia/Bangkok','DD Mon YYYY HH24:MI') as customer_warranty_start\n",
    ",TO_CHAR(inventory.customer_warranty_end AT TIME ZONE 'Asia/Bangkok','DD Mon YYYY HH24:MI') as customer_warranty_end\n",
    ", (select customer_name from app_customer \n",
    "  where id= (select id from app_customer where id=inventory.customer_support_id)\n",
    "  ) as customer_support\n",
    "  \n",
    ",failure_type\n",
    "\n",
    "from app_incident as incident\n",
    "inner join app_incident_type as  xtype on incident.incident_type_id = xtype.id\n",
    "inner join  app_incident_status as status on incident.incident_status_id = status.id\n",
    "inner join  app_incident_severity as severity on  incident.incident_severity_id = severity.id\n",
    "inner join  app_service_type as service on incident.service_type_id= service.id\n",
    "\n",
    "inner join app_inventory as inventory on incident.inventory_id = inventory.id\n",
    "inner join app_datacenter as datacenter on inventory.datacenter_id = datacenter.id\n",
    "inner join app_brand as brand on inventory.brand_id = brand.id\n",
    "inner join app_model as model on inventory.model_id = model.id\n",
    "inner join app_product_type as product_type on inventory.product_type_id = product_type.id\n",
    "inner join app_project as project on inventory.project_id = project.id\n",
    "inner join app_company as company on project.company_id = company.id\n",
    "\n",
    "where company.id=%(company_id_param)s\n",
    "and incident.incident_datetime>=%(start_date_param)s \n",
    "and  incident.incident_datetime<=%(end_date_param)s\n",
    "and incident.incident_severity_id<>4\n",
    "and incident.incident_status_id <>3\n",
    "\n",
    "order by id\n",
    "\n",
    "\"\"\"\n",
    "\n",
    "#where company.id=2  and incident.incident_datetime>='2022-01-01' and incident.incident_datetime<='2022-12-31'\n",
    " \n",
    "sql_detail=\"\"\"\n",
    "select \n",
    "detail.id,detail.incident_master_id as incident_id \n",
    ",TO_CHAR(detail.task_start AT TIME ZONE 'Asia/Bangkok','DD Mon YYYY HH24:MI')  as task_start\n",
    ",TO_CHAR(detail.task_end AT TIME ZONE 'Asia/Bangkok','DD Mon YYYY HH24:MI') as task_end\n",
    ", detail.\"reference_product_caseNo\" as case_id \n",
    ",detail.employee_id ,team.service_team_name,engineer.employee_name as engineer_name\n",
    ",detail.workaround_resolution\n",
    "from app_incident_detail detail\n",
    "inner join  app_serviceteam team on detail.service_team_id=team.id\n",
    "inner  join  app_employee engineer on detail.employee_id=engineer.id\n",
    " where detail.incident_master_id in %(incident_id_param)s \n",
    " \"\"\""
   ]
  },
  {
   "cell_type": "code",
   "execution_count": null,
   "id": "957ac43c-b21a-4c11-8ee5-5901cad580db",
   "metadata": {},
   "outputs": [],
   "source": []
  },
  {
   "cell_type": "code",
   "execution_count": null,
   "id": "ae1b1151-283f-4fa0-a88c-9f7b22346f60",
   "metadata": {},
   "outputs": [],
   "source": [
    "print(\"Create all issues dataframe\")\n",
    "\n",
    "dict_params={\"company_id_param\":company_id_query,\"start_date_param\":start_date_query,\"end_date_param\":end_date_query}\n",
    "\n",
    "df_all=list_data(sql_all,dict_params,get_postgres_conn())\n",
    "print(df_all.info())\n",
    "df_all.head()\n",
    "\n"
   ]
  },
  {
   "cell_type": "code",
   "execution_count": null,
   "id": "d69ea3bb-a9b4-46c3-ac97-7a4f1611513e",
   "metadata": {},
   "outputs": [],
   "source": [
    "# export data for running in spark databrick\n",
    "#df_all.to_excel('incident_master.xlsx',index=False)\n",
    "# dfDetail=list_data(sql_detail,{\"incident_id_param\": tuple(df_all['id'].tolist())},get_postgres_conn())\n",
    "# dfDetail.to_excel('incident_detail.xlsx',index=False)"
   ]
  },
  {
   "cell_type": "code",
   "execution_count": null,
   "id": "4f949344-373c-4181-874e-268d1edb136b",
   "metadata": {},
   "outputs": [],
   "source": []
  },
  {
   "cell_type": "code",
   "execution_count": null,
   "id": "ff83aff9-8366-456f-8010-0ae462c1b0cb",
   "metadata": {},
   "outputs": [],
   "source": [
    "def convert_datetime_to_timedelta(item):\n",
    "    if item['resolved_datetime'] is not None:\n",
    "        start = item['open_datetime']\n",
    "        end = item['resolved_datetime']\n",
    "\n",
    "        delta = end - start\n",
    "        #print(type(delta))\n",
    "        # str_delta = str(delta)\n",
    "        \n",
    "        return delta\n",
    "    return None"
   ]
  },
  {
   "cell_type": "code",
   "execution_count": null,
   "id": "6d7c69d0-ccb6-42a0-8b7e-6e907f68d8f6",
   "metadata": {},
   "outputs": [],
   "source": [
    "#df_all['incident_subject']=df_all['incident_subject'].apply(lambda x: _ILLEGAL_CHARACTERS_RE.sub(\"\", x))\n",
    "df_all['incident_description']=df_all['incident_description'].apply(lambda x: _ILLEGAL_CHARACTERS_RE.sub(\"\", x))"
   ]
  },
  {
   "cell_type": "code",
   "execution_count": null,
   "id": "8176e162-8e15-4c75-acb0-dec080210091",
   "metadata": {},
   "outputs": [],
   "source": [
    "# add Datatime columns\n",
    "df_all['open_datetime']=pd.to_datetime(df_all['open_datetime'], format='%d %b %Y %H:%M')\n",
    "df_all['close_datetime']=pd.to_datetime(df_all['close_datetime'], format='%d %b %Y %H:%M')\n",
    "\n",
    "df_all['response_datetime']=pd.to_datetime(df_all['response_datetime'], format='%d %b %Y %H:%M')\n",
    "df_all['resolved_datetime']=pd.to_datetime(df_all['resolved_datetime'], format='%d %b %Y %H:%M')\n"
   ]
  },
  {
   "cell_type": "code",
   "execution_count": null,
   "id": "db3f84a1-1697-47b0-b895-a589bfb218e3",
   "metadata": {},
   "outputs": [],
   "source": [
    "# for calculating aging today-instaall date\n",
    "df_all['install_date']=pd.to_datetime(df_all['install_date'], format='%d %b %Y %H:%M')\n",
    "# df_all['eos_date']=pd.to_datetime(df_all['eos_date'], format='%d %b %Y %H:%M')"
   ]
  },
  {
   "cell_type": "code",
   "execution_count": null,
   "id": "a186d46b-e50c-45ea-8a43-9331e5be83e5",
   "metadata": {},
   "outputs": [],
   "source": [
    "#incident_type_id=14 name=Upgrade Software\n",
    "df_all ['is_update_sw']=df_all['incident_type_id'].apply( lambda x : 'Update patch' if x==14 else '' )\n"
   ]
  },
  {
   "cell_type": "code",
   "execution_count": null,
   "id": "b014d901-80c9-4d55-b6d0-0e16075dc71c",
   "metadata": {},
   "outputs": [],
   "source": [
    "df_all['month_year']= df_all['open_datetime'].apply(lambda x: x.strftime('%m-%Y')) "
   ]
  },
  {
   "cell_type": "code",
   "execution_count": null,
   "id": "d86b851f-0ded-445c-b243-ef949f8e6069",
   "metadata": {},
   "outputs": [],
   "source": [
    "df_all['status']= df_all['incident_status_id'].apply(lambda x:  'Closed' if x==4 else 'Opened')\n",
    "# for pivot "
   ]
  },
  {
   "cell_type": "code",
   "execution_count": null,
   "id": "8feeb5a9-d60c-4352-b037-fe5047f9ba22",
   "metadata": {},
   "outputs": [],
   "source": [
    "df_all['work_around_time_delta'] = df_all.apply(convert_datetime_to_timedelta, axis=1)"
   ]
  },
  {
   "cell_type": "code",
   "execution_count": null,
   "id": "bd8a3b7d-14c8-45f6-89bb-e26b8a70917f",
   "metadata": {},
   "outputs": [],
   "source": [
    "df_all['work_around_hour'] = df_all['work_around_time_delta'].apply(lambda x:  x.total_seconds() / (60*60) if x is not np.nan else np.nan  )\n"
   ]
  },
  {
   "cell_type": "code",
   "execution_count": null,
   "id": "e3c2eb9f-2463-4047-aa42-cbd7b67fb9ba",
   "metadata": {},
   "outputs": [],
   "source": [
    "#df_all['summary_work_around_str']=df_all['work_around_time_delta'].astype(object).where(df_all['work_around_time_delta'].notnull(),None)\n",
    "\n",
    "df_all['summary_work_around_str']=df_all[\"work_around_time_delta\"].apply( lambda x : str(x) )\n",
    "df_all['summary_work_around_str']=df_all['summary_work_around_str'].apply( lambda x : x.replace('NaT','') )"
   ]
  },
  {
   "cell_type": "code",
   "execution_count": null,
   "id": "40989b3f-d1b4-44f1-97fe-6ac142d58f7e",
   "metadata": {},
   "outputs": [],
   "source": []
  },
  {
   "cell_type": "code",
   "execution_count": null,
   "id": "7369056e-b2a6-4cd7-926e-607163959135",
   "metadata": {},
   "outputs": [],
   "source": [
    "def sla_in_out(item):\n",
    "    # add service type= incident\n",
    "    # critical and by 4 hour\n",
    "    if item[\"incident_severity_id\"]==1 :\n",
    "       if item['work_around_hour']<=4:\n",
    "        return \"in\"\n",
    "       else:\n",
    "        return \"out\"\n",
    "        \n",
    "    elif item[\"incident_severity_id\"]==2:\n",
    "       if item['work_around_hour']<=  168 :\n",
    "        return \"in\"\n",
    "       else:\n",
    "        return \"out\"\n",
    "    \n",
    "    elif item[\"incident_severity_id\"]==3:\n",
    "       if item['work_around_hour']<=  (168 * 3) :\n",
    "        return \"in\"\n",
    "       else:\n",
    "        return \"out\"\n",
    "    else:\n",
    "        return \"cosmatic\"\n",
    "df_all['sla']=df_all.apply(sla_in_out,axis=1)   "
   ]
  },
  {
   "cell_type": "code",
   "execution_count": null,
   "id": "15d9f271-c1d3-4f77-a6f1-a575ab78f18d",
   "metadata": {},
   "outputs": [],
   "source": [
    "def cal_againg(item):\n",
    "    aging_year=0\n",
    "    if  pd.isna(item[\"install_date\"])==False  :\n",
    "      aging_year= round( abs(today_x-item['install_date']).days/365,1)\n",
    "      # print(f'{today_x} to {item[\"install_date\"]}={aging_year}')\n",
    "    else:\n",
    "      aging_year= np.nan \n",
    "      # print (np.nan) \n",
    "    return aging_year\n",
    "\n",
    "df_all['today']=today_x\n",
    "df_all['aging_year']=df_all.apply( cal_againg,axis=1)"
   ]
  },
  {
   "cell_type": "code",
   "execution_count": null,
   "id": "596a7f64-ad14-4932-881a-cd95ae42347b",
   "metadata": {},
   "outputs": [],
   "source": [
    "# get data from incidenet detail\n",
    "sql_allDetail = \"\"\"\n",
    "select TO_CHAR(detail.task_start AT TIME ZONE 'Asia/Bangkok','DD Mon YYYY HH24:MI')  as task_start\n",
    ",TO_CHAR(detail.task_end AT TIME ZONE 'Asia/Bangkok','DD Mon YYYY HH24:MI') as task_end\n",
    ",detail.workaround_resolution,team.service_team_name,engineer.employee_name as engineer_name\n",
    "from app_incident_detail detail\n",
    "     inner join  app_serviceteam team on detail.service_team_id=team.id\n",
    "     inner  join  app_employee engineer on detail.employee_id=engineer.id\n",
    "where detail.incident_master_id=%(incident_id_param)s  \n",
    "ORDER BY detail.task_start DESC\n",
    "\"\"\"\n",
    "\n",
    "\n",
    "\n",
    "def all_detail_by_incident(row):\n",
    "    \n",
    "    id = row['id']\n",
    "    df_detail = list_data(sql_allDetail,{\"incident_id_param\": id},get_postgres_conn())\n",
    "    des = ''\n",
    "    if df_detail.empty == False:\n",
    "        for index, detail in df_detail.iterrows():\n",
    "            task_start = detail['task_start']\n",
    "            task_end = detail['task_end']\n",
    "            x = f\"{detail['service_team_name']} | {detail['engineer_name']} | {task_start} - {task_end} \\n {detail['workaround_resolution']}\\n\\n\"\n",
    "            des = des + x\n",
    "\n",
    "    des_fix = ''\n",
    "    des_fix = _ILLEGAL_CHARACTERS_RE.sub(\"\", des)\n",
    "\n",
    "    return des_fix\n",
    "\n",
    "df_all['detail'] = df_all.apply(all_detail_by_incident, axis=1)\n",
    "#df_all['detail']=''\n"
   ]
  },
  {
   "cell_type": "code",
   "execution_count": null,
   "id": "2852f34e-93b6-49ba-9c71-0d172fa75a9a",
   "metadata": {},
   "outputs": [],
   "source": [
    "sql_caseIDDetail=\"\"\"\n",
    "select  app_incident_detail.incident_master_id as incident_id, app_incident_detail.\"reference_product_caseNo\" as case_id from app_incident_detail\n",
    "where app_incident_detail.incident_master_id  in %(incident_id_param)s \n",
    "\"\"\"\n",
    "\n",
    "dfDetailCaseIDs=list_data(sql_caseIDDetail,{\"incident_id_param\": tuple(df_all['id'].tolist())},get_postgres_conn())\n",
    "dfDetailCaseIDs.dropna(axis=0, how='any',inplace=True)\n",
    "dfDetailCaseIDs.drop_duplicates(inplace=True)\n",
    "dfDetailCaseIDs=dfDetailCaseIDs.groupby(['incident_id'], as_index=False).agg({'case_id' : ','.join  })\n",
    "\n",
    "#dfDetailCaseIDs\n",
    "\n",
    "df_all=df_all.merge(dfDetailCaseIDs,left_on=\"id\",right_on=\"incident_id\",how='left')"
   ]
  },
  {
   "cell_type": "code",
   "execution_count": null,
   "id": "4017bf03-dccb-4063-bcea-0e83d634c918",
   "metadata": {},
   "outputs": [],
   "source": [
    "# 982=for 4 items and 2 team but 3 eng ,987 =no enginerr ,883= for 2 items and 1 team  and 1 eng\n",
    "\n",
    "sql_count_eng=\"\"\"\n",
    "select app_incident_detail.incident_master_id as incident_id, count(distinct employee_id) as \"no.eng\"  from app_incident_detail\n",
    "where app_incident_detail.incident_master_id in %(incident_id_param)s \n",
    "group by  app_incident_detail.incident_master_id\n",
    "\"\"\"\n",
    "\n",
    "dfNoEng=list_data(sql_count_eng,{\"incident_id_param\": tuple(df_all['id'].tolist())},get_postgres_conn())\n",
    "# dfNoEng\n",
    "df_all=df_all.merge(dfNoEng,left_on=\"id\",right_on=\"incident_id\",how='left')\n",
    "\n",
    "df_all[\"no.eng\"] = df_all[\"no.eng\"].fillna(0)"
   ]
  },
  {
   "cell_type": "code",
   "execution_count": null,
   "id": "becfbabd-cdd6-4832-b622-f347b6cb0528",
   "metadata": {},
   "outputs": [],
   "source": [
    "df_all['issue_datetime']=df_all['open_datetime']\n",
    "df_all=df_all.sort_values(by=['issue_datetime'],ascending=True)"
   ]
  },
  {
   "cell_type": "code",
   "execution_count": null,
   "id": "1e7e90ea-d3ca-4162-9dd4-08b52eaa760b",
   "metadata": {},
   "outputs": [],
   "source": [
    "for d in date_cols:\n",
    " df_all[d]=df_all[d].dt.strftime('%d-%b-%y')"
   ]
  },
  {
   "cell_type": "code",
   "execution_count": null,
   "id": "bd264d81-ae37-4ee9-8d00-b8322b4b75db",
   "metadata": {},
   "outputs": [],
   "source": [
    "for d in datetime_cols:\n",
    " df_all[d]=df_all[d].dt.strftime('%d-%b-%y %H:%M')"
   ]
  },
  {
   "cell_type": "code",
   "execution_count": null,
   "id": "2934f143-913b-48e1-b264-326dbb7c755e",
   "metadata": {},
   "outputs": [],
   "source": [
    "df_all.head()"
   ]
  },
  {
   "cell_type": "markdown",
   "id": "7e04b954-e4a1-4bdb-983e-3ccd59741b46",
   "metadata": {},
   "source": [
    "# splite all issues dataframe to others "
   ]
  },
  {
   "cell_type": "code",
   "execution_count": null,
   "id": "713c02bb-7c14-442b-9d3e-98032809864b",
   "metadata": {},
   "outputs": [],
   "source": [
    "print(\"Create incident issues dataframe\")\n",
    "#service_type=incident\n",
    "dfIncident=df_all.query(\"service_type_id==1\")\n",
    "\n",
    "dfIncident=dfIncident.reset_index(drop=True)\n",
    "dfIncident = dfIncident.reset_index(level=0)\n",
    "dfIncident.rename(columns={\"index\": \"running_number\"},inplace=True)\n",
    "dfIncident['running_number']=dfIncident['running_number']+1\n"
   ]
  },
  {
   "cell_type": "code",
   "execution_count": null,
   "id": "99e18b0f-6fdf-401a-a701-93550e4bd357",
   "metadata": {},
   "outputs": [],
   "source": [
    "print(\"Create Out-SLA incident issues dataframe\")\n",
    "outSLA_str='out'\n",
    "dfOutSLA=dfIncident.query(\"sla==@outSLA_str\")"
   ]
  },
  {
   "cell_type": "code",
   "execution_count": null,
   "id": "9d0971f7-6c08-405c-8fb6-61ef84ea7b83",
   "metadata": {},
   "outputs": [],
   "source": [
    "dfOutSLA['problem']=dfOutSLA.apply( lambda x :  f\"{x.incident_subject}\\n\\n{x.incident_description}\",axis=1 )\n",
    "dfOutSLA['cause']=''\n",
    "dfOutSLA['effect']=''\n",
    "dfOutSLA['solution']=''\n",
    "dfOutSLA['preventive_guideline']=''\n",
    "dfOutSLA['vender']='Yip In Tsoi'"
   ]
  },
  {
   "cell_type": "code",
   "execution_count": null,
   "id": "44ce462e-2ae5-485a-8ab8-a40078f32f22",
   "metadata": {},
   "outputs": [],
   "source": [
    "#service_type=incident\n",
    "print(\"Create request service to maintainance dataframe\")\n",
    "dfService=df_all.query(\"service_type_id==2\")\n",
    "dfService=dfService.reset_index(drop=True)\n",
    "dfService = dfService.reset_index(level=0)\n",
    "dfService.rename(columns={\"index\": \"running_number\"},inplace=True)\n",
    "dfService['running_number']=dfService['running_number']+1\n",
    "\n",
    "#incident type 15=Report error but not nessary any loner\n",
    "#dfService['service_type_name']= dfService.apply( lambda x: 'Report' if x.incident_type_id==15 else x.service_type_name ,axis=1)"
   ]
  },
  {
   "cell_type": "code",
   "execution_count": null,
   "id": "e1cb0acb-e2cd-4da8-94c5-3d1096a2aff1",
   "metadata": {},
   "outputs": [],
   "source": []
  },
  {
   "cell_type": "markdown",
   "id": "746660e5-c8dc-4314-ae5c-2c52ea471f05",
   "metadata": {},
   "source": [
    "# Export Excel Report as Customer Format & Name"
   ]
  },
  {
   "cell_type": "markdown",
   "id": "8a8d48e1-6c15-4704-9a8b-de24fa0c4871",
   "metadata": {},
   "source": [
    "# All Issue"
   ]
  },
  {
   "cell_type": "code",
   "execution_count": null,
   "id": "c8a1166d-1cf3-444f-bd43-16939f587c6f",
   "metadata": {},
   "outputs": [],
   "source": [
    "dfAllIssue=df_all[dfAll_Issue_Cols['name'].tolist()]\n",
    "dfAllIssue=dfAllIssue.rename(columns=dictAll_Issue)\n",
    "dfAllIssue=dfAllIssue[dfAll_Issue_Cols['display_name'].tolist()]"
   ]
  },
  {
   "cell_type": "code",
   "execution_count": null,
   "id": "5bf595f8-2fc0-4f58-9593-6c58a5d85e8b",
   "metadata": {},
   "outputs": [],
   "source": [
    "dfIncident=dfIncident[dfIncident_Issue_Cols['name'].tolist()]\n",
    "dfIncident=dfIncident.rename(columns=dictIncident)\n",
    "dfIncident=dfIncident[dfIncident_Issue_Cols['display_name'].tolist()]"
   ]
  },
  {
   "cell_type": "code",
   "execution_count": null,
   "id": "896d1847-ce0c-4373-9c2c-dfae3bfbe428",
   "metadata": {},
   "outputs": [],
   "source": [
    "dfOutSLA=dfOutSLA[dfOutSLA_Cols['name'].tolist()]\n",
    "dfOutSLA=dfOutSLA.rename(columns=dictOutSLA)\n",
    "dfOutSLA=dfOutSLA[dfOutSLA_Cols['display_name'].tolist()]"
   ]
  },
  {
   "cell_type": "code",
   "execution_count": null,
   "id": "78bd2480-2b4f-4439-8cfa-484d8290e71a",
   "metadata": {},
   "outputs": [],
   "source": [
    "dfService=dfService[dfService_Issue_Cols['name'].tolist()]\n",
    "dfService=dfService.rename(columns=dictService)\n",
    "dfService=dfService[dfService_Issue_Cols['display_name'].tolist()]"
   ]
  },
  {
   "cell_type": "code",
   "execution_count": null,
   "id": "722a5d22-a5fb-47db-be47-6811bd80982a",
   "metadata": {},
   "outputs": [],
   "source": [
    "for sheet_name,data  in dfTableReportDict.items():\n",
    "    print(sheet_name)"
   ]
  },
  {
   "cell_type": "code",
   "execution_count": null,
   "id": "00cf3695-5187-4126-aee0-6502043976fc",
   "metadata": {},
   "outputs": [],
   "source": []
  }
 ],
 "metadata": {
  "kernelspec": {
   "display_name": "Python 3 (ipykernel)",
   "language": "python",
   "name": "python3"
  },
  "language_info": {
   "codemirror_mode": {
    "name": "ipython",
    "version": 3
   },
   "file_extension": ".py",
   "mimetype": "text/x-python",
   "name": "python",
   "nbconvert_exporter": "python",
   "pygments_lexer": "ipython3",
   "version": "3.9.16"
  }
 },
 "nbformat": 4,
 "nbformat_minor": 5
}
