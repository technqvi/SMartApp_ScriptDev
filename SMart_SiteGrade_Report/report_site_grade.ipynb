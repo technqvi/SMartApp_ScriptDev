{
 "cells": [
  {
   "cell_type": "code",
   "execution_count": null,
   "id": "debd3b61",
   "metadata": {},
   "outputs": [],
   "source": [
    "import psycopg2\n",
    "import psycopg2.extras as extras\n",
    "import pandas as pd\n",
    "from datetime import datetime"
   ]
  },
  {
   "cell_type": "code",
   "execution_count": null,
   "id": "23ff9c08",
   "metadata": {},
   "outputs": [],
   "source": [
    "# remove it in production\n",
    "def get_postgres_conn():\n",
    " try:\n",
    "  conn = psycopg2.connect(\n",
    "         database='SMartDB', user='postgres',\n",
    "      password='P@ssw0rd', host='localhost', \n",
    "     )\n",
    "  return conn\n",
    "\n",
    " except Exception as error:\n",
    "  print(error)      \n",
    "  raise error\n",
    "    \n",
    "# for django\n",
    "# def get_postgres_conn():\n",
    "#   return connection\n",
    " \n",
    "\n",
    "    "
   ]
  },
  {
   "cell_type": "code",
   "execution_count": null,
   "id": "378782d2",
   "metadata": {},
   "outputs": [],
   "source": [
    "def list_data(sql,params,connection):\n",
    " df=None   \n",
    " with connection.cursor() as cursor:\n",
    "    \n",
    "    if params is None:\n",
    "       cursor.execute(sql)\n",
    "    else:\n",
    "       cursor.execute(sql,params) \n",
    "    \n",
    "#     print(sql)\n",
    "#     print(params)\n",
    "    \n",
    "    columns = [col[0] for col in cursor.description]\n",
    "    dataList = [dict(zip(columns, row)) for row in cursor.fetchall()]\n",
    "    df = pd.DataFrame(data=dataList) \n",
    " return df "
   ]
  },
  {
   "cell_type": "code",
   "execution_count": null,
   "id": "140538ec",
   "metadata": {},
   "outputs": [],
   "source": [
    "start_support_param='2022-01-01'\n",
    "end_support_param='2022-12-31'\n",
    "\n",
    "init_param = {\"start_support_param\":start_support_param,\"end_support_param\":end_support_param }\n",
    "\n",
    "\n",
    "total_col=\"Total Score\"\n",
    "avg_col=\"Avg Score\"\n",
    "summary_cols=[avg_col,total_col]"
   ]
  },
  {
   "cell_type": "code",
   "execution_count": null,
   "id": "cd03a7e9",
   "metadata": {},
   "outputs": [],
   "source": [
    "# company\n",
    "sql_company=  \"\"\"\n",
    "    select id as company_id,company_name from app_company  where is_customer=true order by id \n",
    "        \"\"\"\n",
    "print(\"Get All Customer Company\")\n",
    "\n",
    "df_company=list_data(sql_company,None,get_postgres_conn())\n",
    "df_company.head()"
   ]
  },
  {
   "cell_type": "code",
   "execution_count": null,
   "id": "245a46f0",
   "metadata": {},
   "outputs": [],
   "source": [
    "# product type\n",
    "\n",
    "capacity_storage_sql=  \"\"\"\n",
    "    select ac.id as company_id,  sum(app_inventory.storage_capacity) as  sum_x from app_inventory\n",
    "inner join  app_project ap on app_inventory.project_id = ap.id  \n",
    "inner join app_company ac on ac.id = ap.company_id\n",
    "\n",
    "where \n",
    "\n",
    "app_inventory.customer_warranty_end>=%(end_support_param)s\n",
    "and app_inventory.customer_warranty_end>=%(start_support_param)s\n",
    "\n",
    "and app_inventory.product_type_id=%(product_type_param)s \n",
    "\n",
    "group by  ac.id\n",
    "order by  ac.id \n",
    " \"\"\"\n",
    "\n",
    "\n",
    "qty_product_type_sql=  \"\"\"\n",
    "    select ac.id as company_id,  sum(app_inventory.quantity) as  sum_x from app_inventory\n",
    "inner join  app_project ap on app_inventory.project_id = ap.id  \n",
    "inner join app_company ac on ac.id = ap.company_id\n",
    "\n",
    "where \n",
    "\n",
    "app_inventory.customer_warranty_end>=%(end_support_param)s\n",
    "and app_inventory.customer_warranty_end>=%(start_support_param)s\n",
    "\n",
    "and app_inventory.product_type_id=%(product_type_param)s \n",
    "\n",
    "group by  ac.id\n",
    "order by  ac.id \n",
    "        \"\"\"\n",
    "\n",
    "qty_other_product_type_sql=  \"\"\"\n",
    "    select ac.id as company_id,  sum(app_inventory.quantity) as  sum_x from app_inventory\n",
    "inner join  app_project ap on app_inventory.project_id = ap.id  \n",
    "inner join app_company ac on ac.id = ap.company_id\n",
    "\n",
    "where \n",
    "\n",
    "app_inventory.customer_warranty_end>=%(end_support_param)s\n",
    "and app_inventory.customer_warranty_end>=%(start_support_param)s\n",
    "\n",
    "and app_inventory.product_type_id  not in %(product_type_param)s \n",
    "\n",
    "group by  ac.id\n",
    "order by  ac.id \n",
    "        \"\"\"\n"
   ]
  },
  {
   "cell_type": "code",
   "execution_count": null,
   "id": "27ae9451-90f3-4e7a-98d5-d8ff77c365db",
   "metadata": {},
   "outputs": [],
   "source": [
    "qty_incident_sql=\"\"\"\n",
    "select ac.id as company_id,count(*) as count_x from app_incident\n",
    "\n",
    "inner join app_inventory ai on ai.id = app_incident.inventory_id\n",
    "inner join app_project ap on ap.id = ai.project_id\n",
    "inner join app_company ac on ac.id = ap.company_id\n",
    "\n",
    "where\n",
    "\n",
    "app_incident.incident_datetime>=%(start_support_param)s\n",
    "and app_incident.incident_datetime<=%(end_support_param)s\n",
    "\n",
    "and app_incident.service_type_id=%(service_type_param)s \n",
    "\n",
    "and  app_incident.incident_status_id <> 3\n",
    "\n",
    "group by  ac.id\n",
    "order by  ac.id\n",
    "\"\"\""
   ]
  },
  {
   "cell_type": "code",
   "execution_count": null,
   "id": "8eb2e461",
   "metadata": {},
   "outputs": [],
   "source": [
    "def agg_data(sql,additional_params,agg_old_name,agg_new_name,df_comp):\n",
    "  print(agg_new_name)  \n",
    "  pt_param=(init_param.copy())\n",
    "  pt_param.update(additional_params)\n",
    "\n",
    "  df_xyz= list_data(sql,pt_param,get_postgres_conn())\n",
    "  df_xyz=df_xyz.rename(columns={agg_old_name:agg_new_name})\n",
    "  # print(df_xyz.info())\n",
    "  # print(df_xyz.head())  \n",
    "\n",
    "  df_agg=df_comp.merge(df_xyz, how='left',on='company_id')\n",
    "  # print(df_agg)\n",
    "  # print(\"==================================\")\n",
    "  return df_agg  \n",
    "\n"
   ]
  },
  {
   "cell_type": "code",
   "execution_count": null,
   "id": "3f3f4c5b",
   "metadata": {},
   "outputs": [],
   "source": [
    "df_company=agg_data(capacity_storage_sql,{\"product_type_param\": 1},'sum_x','storage',df_company)"
   ]
  },
  {
   "cell_type": "code",
   "execution_count": null,
   "id": "dd3e340e",
   "metadata": {},
   "outputs": [],
   "source": [
    "df_company=agg_data(qty_product_type_sql,{\"product_type_param\": 2},'sum_x','server',df_company)\n"
   ]
  },
  {
   "cell_type": "code",
   "execution_count": null,
   "id": "ec283149",
   "metadata": {},
   "outputs": [],
   "source": [
    "df_company=agg_data(qty_product_type_sql,{\"product_type_param\": 3},'sum_x','software',df_company)\n"
   ]
  },
  {
   "cell_type": "code",
   "execution_count": null,
   "id": "9d3be993",
   "metadata": {},
   "outputs": [],
   "source": [
    "df_company=agg_data(qty_product_type_sql,{\"product_type_param\": 4},'sum_x','network',df_company)\n"
   ]
  },
  {
   "cell_type": "code",
   "execution_count": null,
   "id": "549b1684",
   "metadata": {},
   "outputs": [],
   "source": [
    "df_company=agg_data(qty_other_product_type_sql,{\"product_type_param\": tuple([1,2,3,4])},'sum_x','others',df_company)\n"
   ]
  },
  {
   "cell_type": "code",
   "execution_count": null,
   "id": "cffb62f9-229d-40a2-b360-f0c413f90efe",
   "metadata": {},
   "outputs": [],
   "source": [
    "df_company=agg_data(qty_incident_sql,{\"service_type_param\": 1},'count_x','incident',df_company)\n",
    "df_company"
   ]
  },
  {
   "cell_type": "code",
   "execution_count": null,
   "id": "544a5742-d28e-423a-9ad5-63da88aa5e9f",
   "metadata": {},
   "outputs": [],
   "source": [
    "df_company=agg_data(qty_incident_sql,{\"service_type_param\": 2},'count_x','request',df_company)"
   ]
  },
  {
   "cell_type": "code",
   "execution_count": null,
   "id": "f34440e1",
   "metadata": {},
   "outputs": [],
   "source": [
    "df_company=df_company.fillna(0)\n",
    "\n",
    "df_company.head()\n",
    "\n",
    "#df_company.sort_values(by=['storage','server','software','incident','request','network','others'],ascending=False)"
   ]
  },
  {
   "cell_type": "code",
   "execution_count": null,
   "id": "ce79aedb-1388-42f8-a6ad-bb8e100efe23",
   "metadata": {},
   "outputs": [],
   "source": [
    "sql_level=\"select * from report_level_definition order by level_value desc \"\n",
    "df_level=list_data(sql_level,None,get_postgres_conn())\n",
    "df_level.set_index(\"key\",inplace=True)\n",
    "levelCols=df_level.index.tolist()\n",
    "\n",
    "#df_level.loc['level1','name']\n",
    "print(levelCols)\n",
    "print(df_level)"
   ]
  },
  {
   "cell_type": "code",
   "execution_count": null,
   "id": "4bd20314",
   "metadata": {},
   "outputs": [],
   "source": [
    "sql_weight=\"select * from report_key_value_weight where is_used=true\"\n",
    "df_weight=list_data(sql_weight,None,get_postgres_conn())\n"
   ]
  },
  {
   "cell_type": "code",
   "execution_count": null,
   "id": "3aae6de6",
   "metadata": {},
   "outputs": [],
   "source": [
    "key_name_mapping=df_weight[['key','name']].to_dict('records')\n",
    "key_name_cols=df_weight['key'].tolist()"
   ]
  },
  {
   "cell_type": "code",
   "execution_count": null,
   "id": "9ab39948",
   "metadata": {},
   "outputs": [],
   "source": [
    "df_weight=df_weight.drop(columns=['updated_at','is_used'])\n",
    "df_weight.set_index(\"key\",inplace=True)\n",
    "df_weight"
   ]
  },
  {
   "cell_type": "code",
   "execution_count": null,
   "id": "78737800-d5e2-408f-8f58-1736b60d9bfb",
   "metadata": {},
   "outputs": [],
   "source": [
    "def cal_value_to_score(item,key_name):\n",
    "    val=item[key_name]\n",
    "    rank=1\n",
    "    \n",
    "    for level in levelCols:\n",
    "        if val>=df_weight.loc[key_name,level]:\n",
    "          rank=df_level.loc[level,'level_value']\n",
    "          break  \n",
    "    # if val>=df_weight.loc[key_name,\"level5\"]:\n",
    "    #   rank= 5\n",
    "    # elif val>=df_weight.loc[key_name,\"level4\"]:\n",
    "    #   rank= 4\n",
    "    # elif val>=df_weight.loc[key_name,\"level3\"]:\n",
    "    #   rank= 3\n",
    "    # elif val>=df_weight.loc[key_name,\"level2\"]:\n",
    "    #   rank= 2\n",
    "    # else:\n",
    "    #   rank= 1\n",
    "    \n",
    "    # Level5= 5*10\n",
    "    weight_vale=df_weight.loc[key_name,\"weight_value\"]\n",
    "    score=weight_vale*rank\n",
    "    # print(score)\n",
    "    \n",
    "\n",
    "    return score\n",
    "    "
   ]
  },
  {
   "cell_type": "code",
   "execution_count": null,
   "id": "f8c639e8-7e5f-4da8-8a1d-68f750be2872",
   "metadata": {},
   "outputs": [],
   "source": [
    "score_cols=[]\n",
    "# print(key_name_cols)\n",
    "for key in key_name_cols:\n",
    "  # dict_key_value_weight=df_weight.loc[key].to_dict()\n",
    "  score_name=f\"{key.title()}-Score\"\n",
    "  df_company[score_name]= df_company.apply(cal_value_to_score,axis=1,args=(key,)) \n",
    "  score_cols.append(score_name)\n",
    "    \n",
    "\n"
   ]
  },
  {
   "cell_type": "code",
   "execution_count": null,
   "id": "b4c551bb-9e00-4251-b499-c2f3657bc6ea",
   "metadata": {},
   "outputs": [],
   "source": [
    "def sum_score(item):\n",
    "    total_score=0\n",
    "    for col in score_cols:\n",
    "        total_score=total_score+item[col]\n",
    "    return total_score\n"
   ]
  },
  {
   "cell_type": "code",
   "execution_count": null,
   "id": "ba06776e-386d-450a-80e2-64e59d88fda1",
   "metadata": {},
   "outputs": [],
   "source": [
    "df_company[total_col]= df_company.apply(sum_score,axis=1) \n",
    "df_company[avg_col]= df_company[total_col]/len(key_name_cols)\n",
    "df_company=df_company.round(2)\n",
    "df_company.drop(columns=['company_id'],inplace=True)\n",
    "#df_company[score_cols+[\"total_score\"]]\n",
    "df_company.info()"
   ]
  },
  {
   "cell_type": "code",
   "execution_count": null,
   "id": "3e300479-fb20-4ffc-a619-c42f3d3dbd4f",
   "metadata": {},
   "outputs": [],
   "source": [
    "#Sample Ais Score prior to summation\n",
    "col_store=[ col for col in list(df_company.columns) if col.endswith(\"-Score\")]\n",
    "col_store.insert(0,'company_name')\n",
    "col_store.insert(1,'Total Score')\n",
    "col_store.insert(2,'Avg Score')\n",
    "comp='AIS'\n",
    "df_company.query('company_name==@comp')[col_store]"
   ]
  },
  {
   "cell_type": "code",
   "execution_count": null,
   "id": "f310c990",
   "metadata": {},
   "outputs": [],
   "source": [
    "new_mapping={}\n",
    "new_cols=[]\n",
    "for item in key_name_mapping:\n",
    "    old_col=item ['key']\n",
    "    new_col=item ['name']\n",
    "    new_mapping[old_col]=new_col\n",
    "    new_cols.append(new_col)\n",
    "#     print(old_col,' : ',new_col) \n",
    "new_mapping['company_name']='Company'\n",
    "\n",
    "df_company=df_company.rename(columns=new_mapping)\n",
    "df_company"
   ]
  },
  {
   "cell_type": "code",
   "execution_count": null,
   "id": "173d4ce8",
   "metadata": {},
   "outputs": [],
   "source": [
    "order_cols=['Company']+summary_cols+score_cols+new_cols\n",
    "order_cols"
   ]
  },
  {
   "cell_type": "code",
   "execution_count": null,
   "id": "741b1d40-9912-45e7-b0f8-3a86220dc8ee",
   "metadata": {},
   "outputs": [],
   "source": [
    "df_company=df_company.sort_values(by=summary_cols[0], ascending=False)\n",
    "df_company=df_company[order_cols]\n",
    "df_company"
   ]
  },
  {
   "cell_type": "code",
   "execution_count": null,
   "id": "8e16d777",
   "metadata": {},
   "outputs": [],
   "source": [
    "# return  df_company,df_weight,df_company.columns.tolist()"
   ]
  },
  {
   "cell_type": "code",
   "execution_count": null,
   "id": "f4f3731b",
   "metadata": {},
   "outputs": [],
   "source": []
  },
  {
   "cell_type": "code",
   "execution_count": null,
   "id": "8e3b4d19-622d-43c3-a299-f69baf9af5d8",
   "metadata": {},
   "outputs": [],
   "source": [
    "# remove it in production\n",
    "writer=pd.ExcelWriter('site_grade_report.xlsx',engine='xlsxwriter') \n",
    "df_company.to_excel(writer, sheet_name=\"detail\",index=False)\n",
    "df_weight.to_excel(writer, sheet_name=\"ref_value_weight\",index=True)\n",
    "writer.save()"
   ]
  },
  {
   "cell_type": "code",
   "execution_count": null,
   "id": "06a58612-2b27-4b35-b6f3-3cd52cc0da0c",
   "metadata": {},
   "outputs": [],
   "source": [
    "# fig = plt.figure(figsize = (12, 6))\n",
    "\n",
    "# # creating the bar plot\n",
    "# plt.bar(df_company[\"Company\"], df_company[\"Avg Score\"], color ='green', width = 0.4)\n",
    "\n",
    "\n",
    "# for idx, row in df_company.iterrows():\n",
    "#  plt.text(idx ,row[\"avg_score\"]  , str(row[\"avg_score\"]), color='black', fontweight='bold')\n",
    "\n",
    "# plt.xlabel(\"company_name\")\n",
    "# plt.ylabel(\"avg_score\")\n",
    "# plt.title(f\"Site Grade Year 2022\")\n",
    "\n",
    "# plt.show()"
   ]
  },
  {
   "cell_type": "code",
   "execution_count": null,
   "id": "4ee6f95f",
   "metadata": {},
   "outputs": [],
   "source": []
  },
  {
   "cell_type": "code",
   "execution_count": null,
   "id": "08010566-3b7f-4ccc-b9e6-30693c58472e",
   "metadata": {},
   "outputs": [],
   "source": []
  }
 ],
 "metadata": {
  "kernelspec": {
   "display_name": "Python 3 (ipykernel)",
   "language": "python",
   "name": "python3"
  },
  "language_info": {
   "codemirror_mode": {
    "name": "ipython",
    "version": 3
   },
   "file_extension": ".py",
   "mimetype": "text/x-python",
   "name": "python",
   "nbconvert_exporter": "python",
   "pygments_lexer": "ipython3",
   "version": "3.9.7"
  }
 },
 "nbformat": 4,
 "nbformat_minor": 5
}
